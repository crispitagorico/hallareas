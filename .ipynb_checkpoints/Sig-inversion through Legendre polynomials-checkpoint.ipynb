{
 "cells": [
  {
   "cell_type": "code",
   "execution_count": 1,
   "id": "f686bf95",
   "metadata": {},
   "outputs": [],
   "source": [
    "import numpy as np\n",
    "import matplotlib.pyplot as plt\n",
    "from free_lie_algebra import * \n",
    "from scipy.integrate import quad"
   ]
  },
  {
   "cell_type": "markdown",
   "id": "653ebcae",
   "metadata": {},
   "source": [
    "$$\\alpha^x_n = (2n+1)\\int_0^1x(t)P_n(t)dt$$"
   ]
  },
  {
   "cell_type": "markdown",
   "id": "93dcaa1c",
   "metadata": {},
   "source": [
    "$$(n+1)P_{n+1}(t) = (2n+1)(2t-1)P_n(t) - nP_n(t)$$"
   ]
  },
  {
   "cell_type": "code",
   "execution_count": 594,
   "id": "0e052688",
   "metadata": {},
   "outputs": [],
   "source": [
    "def x_(t):\n",
    "    return np.cos(20*t)\n",
    "def x(t):\n",
    "    return x_(t) - x_(0)\n",
    "\n",
    "def P(n):\n",
    "    if n==0:\n",
    "        return lambda t: 1\n",
    "    elif n==1:\n",
    "        return lambda t: 1 - 2*t\n",
    "    elif n==2:\n",
    "        return lambda t: 1 - 6*t + 6*(t**2)\n",
    "    else: \n",
    "        pass\n",
    "    \n",
    "def a(n):\n",
    "    P_n = P(n)\n",
    "    return (2*n+1)*quad(lambda t: x(t)*P_n(t), 0, 1)[0]"
   ]
  },
  {
   "cell_type": "code",
   "execution_count": 595,
   "id": "34d7a91e",
   "metadata": {},
   "outputs": [
    {
     "data": {
      "text/plain": [
       "-0.9543527374636185"
      ]
     },
     "execution_count": 595,
     "metadata": {},
     "output_type": "execute_result"
    }
   ],
   "source": [
    "a(0)"
   ]
  },
  {
   "cell_type": "code",
   "execution_count": 596,
   "id": "3504b965",
   "metadata": {},
   "outputs": [
    {
     "data": {
      "text/plain": [
       "-0.12806301853634533"
      ]
     },
     "execution_count": 596,
     "metadata": {},
     "output_type": "execute_result"
    }
   ],
   "source": [
    "a(1)"
   ]
  },
  {
   "cell_type": "code",
   "execution_count": 597,
   "id": "0fbcb379",
   "metadata": {},
   "outputs": [
    {
     "data": {
      "text/plain": [
       "0.3269953779374543"
      ]
     },
     "execution_count": 597,
     "metadata": {},
     "output_type": "execute_result"
    }
   ],
   "source": [
    "a(2)"
   ]
  },
  {
   "cell_type": "code",
   "execution_count": 598,
   "id": "eb1e0718",
   "metadata": {},
   "outputs": [],
   "source": [
    "length = 2000\n",
    "t_grid = np.linspace(0, 1, length)\n",
    "path = x(t_grid)\n",
    "path_time = np.c_[t_grid, path]"
   ]
  },
  {
   "cell_type": "code",
   "execution_count": 599,
   "id": "58b977c0",
   "metadata": {},
   "outputs": [
    {
     "data": {
      "image/png": "[encoded data removed]",
      "text/plain": [
       "<Figure size 432x288 with 1 Axes>"
      ]
     },
     "metadata": {
      "needs_background": "light"
     },
     "output_type": "display_data"
    }
   ],
   "source": [
    "plt.plot(t_grid, P(2)(t_grid))\n",
    "plt.plot(t_grid, path)\n",
    "plt.show()"
   ]
  },
  {
   "cell_type": "code",
   "execution_count": 600,
   "id": "2ae6f45a",
   "metadata": {},
   "outputs": [],
   "source": [
    "def l(n):\n",
    "    if n==0:\n",
    "        return word2Elt('21')\n",
    "    elif n==1:\n",
    "        return 3*word2Elt('21') - 6*word2Elt('211') - 6*word2Elt('121')\n",
    "    else:\n",
    "        factor = (2*n+1)/(n+1)\n",
    "        l_prev = l(n-1)\n",
    "        l_prev_prev = l(n-2)\n",
    "#         e = word2Elt(emptyWord)\n",
    "        return factor*( -(n/(2*n-1))*l_prev_prev + l_prev -2*rightHalfShuffleProduct(word2Elt('1'),l_prev) )"
   ]
  },
  {
   "cell_type": "code",
   "execution_count": 601,
   "id": "30f26030",
   "metadata": {},
   "outputs": [],
   "source": [
    "sig = signature_of_path_iisignature(path_time, 5)"
   ]
  },
  {
   "cell_type": "code",
   "execution_count": 602,
   "id": "5bd633af",
   "metadata": {},
   "outputs": [
    {
     "data": {
      "text/plain": [
       "-0.9543531182387877"
      ]
     },
     "execution_count": 602,
     "metadata": {},
     "output_type": "execute_result"
    }
   ],
   "source": [
    "dotprod(l(0), sig)"
   ]
  },
  {
   "cell_type": "code",
   "execution_count": 603,
   "id": "e8b707b4",
   "metadata": {},
   "outputs": [
    {
     "data": {
      "text/plain": [
       "-0.1280619502742521"
      ]
     },
     "execution_count": 603,
     "metadata": {},
     "output_type": "execute_result"
    }
   ],
   "source": [
    "dotprod(l(1), sig)"
   ]
  },
  {
   "cell_type": "code",
   "execution_count": 604,
   "id": "589952cc",
   "metadata": {},
   "outputs": [
    {
     "data": {
      "text/plain": [
       "-0.43708150728580364"
      ]
     },
     "execution_count": 604,
     "metadata": {},
     "output_type": "execute_result"
    }
   ],
   "source": [
    "dotprod(l(2), sig)"
   ]
  },
  {
   "cell_type": "code",
   "execution_count": null,
   "id": "153d67c4",
   "metadata": {},
   "outputs": [],
   "source": []
  },
  {
   "cell_type": "code",
   "execution_count": null,
   "id": "e4398b75",
   "metadata": {},
   "outputs": [],
   "source": []
  }
 ],
 "metadata": {
  "kernelspec": {
   "display_name": "Python 3 (ipykernel)",
   "language": "python",
   "name": "python3"
  },
  "language_info": {
   "codemirror_mode": {
    "name": "ipython",
    "version": 3
   },
   "file_extension": ".py",
   "mimetype": "text/x-python",
   "name": "python",
   "nbconvert_exporter": "python",
   "pygments_lexer": "ipython3",
   "version": "3.9.12"
  }
 },
 "nbformat": 4,
 "nbformat_minor": 5
}
