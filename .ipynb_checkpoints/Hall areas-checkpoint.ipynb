{
 "cells": [
  {
   "cell_type": "code",
   "execution_count": 1,
   "metadata": {},
   "outputs": [],
   "source": [
    "from free_lie_algebra import *\n",
    "import numpy as np\n",
    "from operators import *\n",
    "import random\n",
    "from tqdm.notebook import tqdm, trange"
   ]
  },
  {
   "cell_type": "code",
   "execution_count": 2,
   "metadata": {},
   "outputs": [],
   "source": [
    "H=HallBasis(2,12)"
   ]
  },
  {
   "cell_type": "code",
   "execution_count": 6,
   "metadata": {},
   "outputs": [
    {
     "data": {
      "text/plain": [
       "((1,), ((1,), (2,)))"
      ]
     },
     "execution_count": 6,
     "metadata": {},
     "output_type": "execute_result"
    }
   ],
   "source": [
    "H.findAsFoliageOfHallWord(\"112\")"
   ]
  },
  {
   "cell_type": "markdown",
   "metadata": {},
   "source": [
    "# Hall"
   ]
  },
  {
   "cell_type": "code",
   "execution_count": 3,
   "metadata": {},
   "outputs": [],
   "source": [
    "width = 3\n",
    "depth = 6"
   ]
  },
  {
   "cell_type": "code",
   "execution_count": 4,
   "metadata": {},
   "outputs": [],
   "source": [
    "# Hall order\n",
    "# less = lessExpressionStandardHall\n",
    "less = lessExpressionLyndon"
   ]
  },
  {
   "cell_type": "code",
   "execution_count": 5,
   "metadata": {},
   "outputs": [],
   "source": [
    "# Hall basis\n",
    "H = HallBasis(width, depth, lessExpression=less) "
   ]
  },
  {
   "cell_type": "code",
   "execution_count": 6,
   "metadata": {},
   "outputs": [],
   "source": [
    "# Enveloping algebra\n",
    "T = TensorSpaceBasis(word2Elt, None, width, depth)"
   ]
  },
  {
   "cell_type": "code",
   "execution_count": 28,
   "metadata": {},
   "outputs": [
    {
     "data": {
      "application/vnd.jupyter.widget-view+json": {
       "model_id": "bda5f5a784c9487db823352fb44e752c",
       "version_major": 2,
       "version_minor": 0
      },
      "text/plain": [
       "HBox(children=(FloatProgress(value=0.0, max=6.0), HTML(value='')))"
      ]
     },
     "metadata": {},
     "output_type": "display_data"
    },
    {
     "name": "stdout",
     "output_type": "stream",
     "text": [
      "\n"
     ]
    }
   ],
   "source": [
    "# all Hall areas (up to truncation depth)\n",
    "# variables = [[(i, areaFromTree(i))  for i in j] for j in H.data]\n",
    "# symbol = 'area'\n",
    "\n",
    "# all Hall integrals (up to truncation depth)\n",
    "variables = [[(i, hsFromTree(i))  for i in j] for j in tqdm(H.data)]\n",
    "symbol = 'prec'\n",
    "\n",
    "# all dual PBW basis elements (up to truncation depth)\n",
    "# variables = [[(i, S(foliageFromTree(i),H))  for i in j] for j in H.data]\n",
    "# symbol = ''"
   ]
  },
  {
   "cell_type": "code",
   "execution_count": 29,
   "metadata": {},
   "outputs": [
    {
     "data": {
      "application/vnd.jupyter.widget-view+json": {
       "model_id": "b391f840ef0f4d94838f7bdf5eb0b904",
       "version_major": 2,
       "version_minor": 0
      },
      "text/plain": [
       "HBox(children=(FloatProgress(value=0.0, max=6.0), HTML(value='')))"
      ]
     },
     "metadata": {},
     "output_type": "display_data"
    },
    {
     "name": "stdout",
     "output_type": "stream",
     "text": [
      "\n"
     ]
    }
   ],
   "source": [
    "# Polynomial Basis Integrals\n",
    "monomials = []\n",
    "for d in trange(1, depth+1):\n",
    "    BasisElementsLevel = [shufflePairs(i) for i in expandSetsThroughGrading(variables, d)]\n",
    "    for elmnt in BasisElementsLevel:\n",
    "        monomials.append(elmnt)"
   ]
  },
  {
   "cell_type": "code",
   "execution_count": 9,
   "metadata": {},
   "outputs": [],
   "source": [
    "Hall_set = [item for sublist in H.data for item in sublist]"
   ]
  },
  {
   "cell_type": "code",
   "execution_count": 10,
   "metadata": {},
   "outputs": [],
   "source": [
    "# is the matrix full rank?\n",
    "# elements = [j for i,j in monomials]\n",
    "# assert len(elements) == T.rank(elements)"
   ]
  },
  {
   "cell_type": "markdown",
   "metadata": {},
   "source": [
    "# Polynomials in Hall areas are closed under area."
   ]
  },
  {
   "cell_type": "code",
   "execution_count": 12,
   "metadata": {
    "scrolled": true
   },
   "outputs": [
    {
     "name": "stdout",
     "output_type": "stream",
     "text": [
      "h1: (1,)  h2 x h3: (1,) x (1,)   poly:  [-0.333]  1 * 1 * 1   \n",
      "\n",
      "h1: (1,)  h2 x h3: (1,) x (2,)   poly:  [-0.333]  1 * 1 * 2  +  [0.333]  1 * area(1,2)  +  [-0.333] area(1,area(1,2))   \n",
      "\n",
      "h1: (1,)  h2 x h3: (1,) x (3,)   poly:  [-0.333] area(1,area(1,3))  +  [-0.333]  1 * 1 * 3  +  [0.333]  1 * area(1,3)   \n",
      "\n",
      "h1: (1,)  h2 x h3: (1,) x ((1,), (2,))   poly:  [0.333]  1 * area(1,area(1,2))  +  [-0.333]  1 * 1 * area(1,2)  +  [-0.333] area(1,area(1,area(1,2)))   \n",
      "\n",
      "h1: (1,)  h2 x h3: (1,) x ((1,), (3,))   poly:  [-0.333] area(1,area(1,area(1,3)))  +  [0.333]  1 * area(1,area(1,3))  +  [-0.333]  1 * 1 * area(1,3)   \n",
      "\n",
      "h1: (1,)  h2 x h3: (2,) x (1,)   poly:  [-0.333]  1 * 1 * 2  +  [0.333]  1 * area(1,2)  +  [-0.333] area(1,area(1,2))   \n",
      "\n",
      "h1: (1,)  h2 x h3: (2,) x (2,)   poly:  [0.667] area(area(1,2),2)  +  [-0.333]  1 * 2 * 2  +  [0.667]  2 * area(1,2)   \n",
      "\n",
      "h1: (1,)  h2 x h3: (2,) x (3,)   poly:  [0.333] area(1,area(2,3))  +  [0.667] area(area(1,3),2)  +  [0.667]  2 * area(1,3)  +  [-0.333]  1 * area(2,3)  +  [-0.333]  1 * 2 * 3   \n",
      "\n",
      "h1: (1,)  h2 x h3: (2,) x ((1,), (2,))   poly:  [-0.333]  1 * 2 * area(1,2)  +  [0.667]  area(1,2) * area(1,2)  +  [0.333] area(1,area(area(1,2),2))  +  [-0.333]  1 * area(area(1,2),2)   \n",
      "\n",
      "h1: (1,)  h2 x h3: (2,) x ((1,), (3,))   poly:  [-0.333]  1 * 2 * area(1,3)  +  [0.333] area(1,area(area(1,3),2))  +  [0.667]  area(1,2) * area(1,3)  +  [0.667] area(area(1,2),area(1,3))  +  [-0.333]  1 * area(area(1,3),2)   \n",
      "\n",
      "h1: (1,)  h2 x h3: (3,) x (1,)   poly:  [-0.333] area(1,area(1,3))  +  [-0.333]  1 * 1 * 3  +  [0.333]  1 * area(1,3)   \n",
      "\n",
      "h1: (1,)  h2 x h3: (3,) x (2,)   poly:  [0.333] area(1,area(2,3))  +  [0.667] area(area(1,3),2)  +  [0.667]  2 * area(1,3)  +  [-0.333]  1 * area(2,3)  +  [-0.333]  1 * 2 * 3   \n",
      "\n",
      "h1: (1,)  h2 x h3: (3,) x (3,)   poly:  [-0.333]  1 * 3 * 3  +  [0.667]  3 * area(1,3)  +  [0.667] area(area(1,3),3)   \n",
      "\n",
      "h1: (1,)  h2 x h3: (3,) x ((1,), (2,))   poly:  [0.333] area(1,area(1,area(2,3)))  +  [-0.333]  1 * 2 * area(1,3)  +  [0.333] area(1,area(area(1,3),2))  +  [-0.333]  1 * area(1,area(2,3))  +  [0.667]  area(1,2) * area(1,3)  +  [-0.333] area(area(1,2),area(1,3))  +  [-0.333]  1 * area(area(1,3),2)  +  [0.333]  1 * 1 * area(2,3)   \n",
      "\n",
      "h1: (1,)  h2 x h3: (3,) x ((1,), (3,))   poly:  [-0.333]  1 * area(area(1,3),3)  +  [0.667]  area(1,3) * area(1,3)  +  [0.333] area(1,area(area(1,3),3))  +  [-0.333]  1 * 3 * area(1,3)   \n",
      "\n",
      "h1: (1,)  h2 x h3: ((1,), (2,)) x (1,)   poly:  [0.333]  1 * area(1,area(1,2))  +  [-0.333]  1 * 1 * area(1,2)  +  [-0.333] area(1,area(1,area(1,2)))   \n",
      "\n",
      "h1: (1,)  h2 x h3: ((1,), (2,)) x (2,)   poly:  [-0.333]  1 * 2 * area(1,2)  +  [0.667]  area(1,2) * area(1,2)  +  [0.333] area(1,area(area(1,2),2))  +  [-0.333]  1 * area(area(1,2),2)   \n",
      "\n",
      "h1: (1,)  h2 x h3: ((1,), (2,)) x (3,)   poly:  [0.333] area(1,area(1,area(2,3)))  +  [-0.333]  1 * 2 * area(1,3)  +  [0.333] area(1,area(area(1,3),2))  +  [-0.333]  1 * area(1,area(2,3))  +  [0.667]  area(1,2) * area(1,3)  +  [-0.333] area(area(1,2),area(1,3))  +  [-0.333]  1 * area(area(1,3),2)  +  [0.333]  1 * 1 * area(2,3)   \n",
      "\n",
      "h1: (1,)  h2 x h3: ((1,), (2,)) x ((1,), (2,))   poly:  [0.667]  area(1,2) * area(1,area(1,2))  +  [0.667] area(area(1,area(1,2)),area(1,2))  +  [-0.333]  1 * area(1,2) * area(1,2)   \n",
      "\n",
      "h1: (1,)  h2 x h3: ((1,), (2,)) x ((1,), (3,))   poly:  [-0.333]  1 * area(area(1,2),area(1,3))  +  [0.667] area(area(1,area(1,3)),area(1,2))  +  [0.333] area(1,area(area(1,2),area(1,3)))  +  [0.667]  area(1,2) * area(1,area(1,3))  +  [-0.333]  1 * area(1,2) * area(1,3)   \n",
      "\n",
      "h1: (1,)  h2 x h3: ((1,), (3,)) x (1,)   poly:  [-0.333] area(1,area(1,area(1,3)))  +  [0.333]  1 * area(1,area(1,3))  +  [-0.333]  1 * 1 * area(1,3)   \n",
      "\n",
      "h1: (1,)  h2 x h3: ((1,), (3,)) x (2,)   poly:  [-0.333]  1 * 2 * area(1,3)  +  [0.333] area(1,area(area(1,3),2))  +  [0.667]  area(1,2) * area(1,3)  +  [0.667] area(area(1,2),area(1,3))  +  [-0.333]  1 * area(area(1,3),2)   \n",
      "\n",
      "h1: (1,)  h2 x h3: ((1,), (3,)) x (3,)   poly:  [-0.333]  1 * area(area(1,3),3)  +  [0.667]  area(1,3) * area(1,3)  +  [0.333] area(1,area(area(1,3),3))  +  [-0.333]  1 * 3 * area(1,3)   \n",
      "\n",
      "h1: (1,)  h2 x h3: ((1,), (3,)) x ((1,), (2,))   poly:  [-0.333]  1 * area(area(1,2),area(1,3))  +  [0.667] area(area(1,area(1,3)),area(1,2))  +  [0.333] area(1,area(area(1,2),area(1,3)))  +  [0.667]  area(1,2) * area(1,area(1,3))  +  [-0.333]  1 * area(1,2) * area(1,3)   \n",
      "\n",
      "h1: (1,)  h2 x h3: ((1,), (3,)) x ((1,), (3,))   poly:  [0.667] area(area(1,area(1,3)),area(1,3))  +  [-0.333]  1 * area(1,3) * area(1,3)  +  [0.667]  area(1,3) * area(1,area(1,3))   \n",
      "\n",
      "h1: (2,)  h2 x h3: (1,) x (1,)   poly:  [-0.333]  1 * 1 * 2  +  [-0.667]  1 * area(1,2)  +  [0.667] area(1,area(1,2))   \n",
      "\n",
      "h1: (2,)  h2 x h3: (1,) x (2,)   poly:  [-0.333] area(area(1,2),2)  +  [-0.333]  1 * 2 * 2  +  [-0.333]  2 * area(1,2)   \n",
      "\n",
      "h1: (2,)  h2 x h3: (1,) x (3,)   poly:  [-0.667] area(1,area(2,3))  +  [-0.333] area(area(1,3),2)  +  [-0.333]  2 * area(1,3)  +  [0.667]  1 * area(2,3)  +  [-0.333]  1 * 2 * 3   \n",
      "\n",
      "h1: (2,)  h2 x h3: (1,) x ((1,), (2,))   poly:  [-0.333]  1 * 2 * area(1,2)  +  [-0.333]  area(1,2) * area(1,2)  +  [0.333] area(1,area(area(1,2),2))  +  [-0.333]  1 * area(area(1,2),2)   \n",
      "\n",
      "h1: (2,)  h2 x h3: (1,) x ((1,), (3,))   poly:  [-0.333]  1 * 2 * area(1,3)  +  [0.333] area(1,area(area(1,3),2))  +  [-0.333]  area(1,2) * area(1,3)  +  [-0.333] area(area(1,2),area(1,3))  +  [-0.333]  1 * area(area(1,3),2)   \n",
      "\n",
      "h1: (2,)  h2 x h3: (2,) x (1,)   poly:  [-0.333] area(area(1,2),2)  +  [-0.333]  1 * 2 * 2  +  [-0.333]  2 * area(1,2)   \n",
      "\n",
      "h1: (2,)  h2 x h3: (2,) x (2,)   poly:  [-0.333]  2 * 2 * 2   \n",
      "\n",
      "h1: (2,)  h2 x h3: (2,) x (3,)   poly:  [-0.333] area(2,area(2,3))  +  [-0.333]  2 * 2 * 3  +  [0.333]  2 * area(2,3)   \n",
      "\n",
      "h1: (2,)  h2 x h3: (2,) x ((1,), (2,))   poly:  [-0.333]  2 * area(area(1,2),2)  +  [-0.333] area(area(area(1,2),2),2)  +  [-0.333]  2 * 2 * area(1,2)   \n",
      "\n",
      "h1: (2,)  h2 x h3: (2,) x ((1,), (3,))   poly:  [-0.333]  2 * 2 * area(1,3)  +  [-0.333] area(area(area(1,3),2),2)  +  [-0.333]  2 * area(area(1,3),2)   \n",
      "\n",
      "h1: (2,)  h2 x h3: (3,) x (1,)   poly:  [-0.667] area(1,area(2,3))  +  [-0.333] area(area(1,3),2)  +  [-0.333]  2 * area(1,3)  +  [0.667]  1 * area(2,3)  +  [-0.333]  1 * 2 * 3   \n",
      "\n",
      "h1: (2,)  h2 x h3: (3,) x (2,)   poly:  [-0.333] area(2,area(2,3))  +  [-0.333]  2 * 2 * 3  +  [0.333]  2 * area(2,3)   \n",
      "\n",
      "h1: (2,)  h2 x h3: (3,) x (3,)   poly:  [0.667] area(area(2,3),3)  +  [-0.333]  2 * 3 * 3  +  [0.667]  3 * area(2,3)   \n",
      "\n",
      "h1: (2,)  h2 x h3: (3,) x ((1,), (2,))   poly:  [-0.333]  2 * 2 * area(1,3)  +  [1.000]  area(1,2) * area(2,3)  +  [-0.333] area(1,area(2,area(2,3)))  +  [-0.667] area(area(1,area(2,3)),2)  +  [0.333]  1 * area(2,area(2,3))  +  [-0.667]  2 * area(1,area(2,3))  +  [0.333]  1 * 2 * area(2,3)  +  [-0.333] area(area(area(1,3),2),2)  +  [-0.333]  2 * area(area(1,3),2)   \n",
      "\n",
      "h1: (2,)  h2 x h3: (3,) x ((1,), (3,))   poly:  [-0.333] area(area(area(1,3),3),2)  +  [0.667]  area(1,3) * area(2,3)  +  [-0.667] area(area(1,3),area(2,3))  +  [-0.333]  2 * area(area(1,3),3)  +  [-0.333]  2 * 3 * area(1,3)   \n",
      "\n",
      "h1: (2,)  h2 x h3: ((1,), (2,)) x (1,)   poly:  [-0.333]  1 * 2 * area(1,2)  +  [-0.333]  area(1,2) * area(1,2)  +  [0.333] area(1,area(area(1,2),2))  +  [-0.333]  1 * area(area(1,2),2)   \n",
      "\n",
      "h1: (2,)  h2 x h3: ((1,), (2,)) x (2,)   poly:  [-0.333]  2 * area(area(1,2),2)  +  [-0.333] area(area(area(1,2),2),2)  +  [-0.333]  2 * 2 * area(1,2)   \n",
      "\n",
      "h1: (2,)  h2 x h3: ((1,), (2,)) x (3,)   poly:  [-0.333]  2 * 2 * area(1,3)  +  [1.000]  area(1,2) * area(2,3)  +  [-0.333] area(1,area(2,area(2,3)))  +  [-0.667] area(area(1,area(2,3)),2)  +  [0.333]  1 * area(2,area(2,3))  +  [-0.667]  2 * area(1,area(2,3))  +  [0.333]  1 * 2 * area(2,3)  +  [-0.333] area(area(area(1,3),2),2)  +  [-0.333]  2 * area(area(1,3),2)   \n",
      "\n",
      "h1: (2,)  h2 x h3: ((1,), (2,)) x ((1,), (2,))   poly:  [-0.333]  2 * area(1,2) * area(1,2)  +  [-0.667]  area(1,2) * area(area(1,2),2)  +  [0.667] area(area(1,2),area(area(1,2),2))   \n",
      "\n",
      "h1: (2,)  h2 x h3: ((1,), (2,)) x ((1,), (3,))   poly:  [-0.333]  area(1,2) * area(area(1,3),2)  +  [-0.333]  2 * area(1,2) * area(1,3)  +  [0.333] area(area(1,2),area(area(1,3),2))  +  [-0.333]  area(1,3) * area(area(1,2),2)  +  [-0.333] area(area(area(1,2),2),area(1,3))   \n",
      "\n"
     ]
    },
    {
     "name": "stdout",
     "output_type": "stream",
     "text": [
      "h1: (2,)  h2 x h3: ((1,), (3,)) x (1,)   poly:  [-0.333]  1 * 2 * area(1,3)  +  [0.333] area(1,area(area(1,3),2))  +  [-0.333]  area(1,2) * area(1,3)  +  [-0.333] area(area(1,2),area(1,3))  +  [-0.333]  1 * area(area(1,3),2)   \n",
      "\n",
      "h1: (2,)  h2 x h3: ((1,), (3,)) x (2,)   poly:  [-0.333]  2 * 2 * area(1,3)  +  [-0.333] area(area(area(1,3),2),2)  +  [-0.333]  2 * area(area(1,3),2)   \n",
      "\n",
      "h1: (2,)  h2 x h3: ((1,), (3,)) x (3,)   poly:  [-0.333] area(area(area(1,3),3),2)  +  [0.667]  area(1,3) * area(2,3)  +  [-0.667] area(area(1,3),area(2,3))  +  [-0.333]  2 * area(area(1,3),3)  +  [-0.333]  2 * 3 * area(1,3)   \n",
      "\n",
      "h1: (2,)  h2 x h3: ((1,), (3,)) x ((1,), (2,))   poly:  [-0.333]  area(1,2) * area(area(1,3),2)  +  [-0.333]  2 * area(1,2) * area(1,3)  +  [0.333] area(area(1,2),area(area(1,3),2))  +  [-0.333]  area(1,3) * area(area(1,2),2)  +  [-0.333] area(area(area(1,2),2),area(1,3))   \n",
      "\n",
      "h1: (2,)  h2 x h3: ((1,), (3,)) x ((1,), (3,))   poly:  [-0.333]  2 * area(1,3) * area(1,3)  +  [0.667] area(area(1,3),area(area(1,3),2))  +  [-0.667]  area(1,3) * area(area(1,3),2)   \n",
      "\n",
      "h1: (3,)  h2 x h3: (1,) x (1,)   poly:  [0.667] area(1,area(1,3))  +  [-0.333]  1 * 1 * 3  +  [-0.667]  1 * area(1,3)   \n",
      "\n",
      "h1: (3,)  h2 x h3: (1,) x (2,)   poly:  [0.333] area(1,area(2,3))  +  [-0.333] area(area(1,3),2)  +  [-0.333]  2 * area(1,3)  +  [-0.333]  1 * area(2,3)  +  [-0.333]  1 * 2 * 3   \n",
      "\n",
      "h1: (3,)  h2 x h3: (1,) x (3,)   poly:  [-0.333]  1 * 3 * 3  +  [-0.333]  3 * area(1,3)  +  [-0.333] area(area(1,3),3)   \n",
      "\n",
      "h1: (3,)  h2 x h3: (1,) x ((1,), (2,))   poly:  [0.333] area(1,area(1,area(2,3)))  +  [-0.333]  1 * 2 * area(1,3)  +  [0.333] area(1,area(area(1,3),2))  +  [-0.333]  1 * area(1,area(2,3))  +  [-0.333]  area(1,2) * area(1,3)  +  [0.667] area(area(1,2),area(1,3))  +  [-0.333]  1 * area(area(1,3),2)  +  [0.333]  1 * 1 * area(2,3)   \n",
      "\n",
      "h1: (3,)  h2 x h3: (1,) x ((1,), (3,))   poly:  [-0.333]  1 * area(area(1,3),3)  +  [-0.333]  area(1,3) * area(1,3)  +  [0.333] area(1,area(area(1,3),3))  +  [-0.333]  1 * 3 * area(1,3)   \n",
      "\n",
      "h1: (3,)  h2 x h3: (2,) x (1,)   poly:  [0.333] area(1,area(2,3))  +  [-0.333] area(area(1,3),2)  +  [-0.333]  2 * area(1,3)  +  [-0.333]  1 * area(2,3)  +  [-0.333]  1 * 2 * 3   \n",
      "\n",
      "h1: (3,)  h2 x h3: (2,) x (2,)   poly:  [0.667] area(2,area(2,3))  +  [-0.333]  2 * 2 * 3  +  [-0.667]  2 * area(2,3)   \n",
      "\n",
      "h1: (3,)  h2 x h3: (2,) x (3,)   poly:  [-0.333] area(area(2,3),3)  +  [-0.333]  2 * 3 * 3  +  [-0.333]  3 * area(2,3)   \n",
      "\n",
      "h1: (3,)  h2 x h3: (2,) x ((1,), (2,))   poly:  [-0.333]  2 * 2 * area(1,3)  +  [-1.000]  area(1,2) * area(2,3)  +  [0.667] area(1,area(2,area(2,3)))  +  [0.333] area(area(1,area(2,3)),2)  +  [-0.667]  1 * area(2,area(2,3))  +  [0.333]  2 * area(1,area(2,3))  +  [0.333]  1 * 2 * area(2,3)  +  [-0.333] area(area(area(1,3),2),2)  +  [-0.333]  2 * area(area(1,3),2)   \n",
      "\n",
      "h1: (3,)  h2 x h3: (2,) x ((1,), (3,))   poly:  [-0.333] area(area(area(1,3),3),2)  +  [-0.333]  area(1,3) * area(2,3)  +  [0.333] area(area(1,3),area(2,3))  +  [-0.333]  2 * area(area(1,3),3)  +  [-0.333]  2 * 3 * area(1,3)   \n",
      "\n",
      "h1: (3,)  h2 x h3: (3,) x (1,)   poly:  [-0.333]  1 * 3 * 3  +  [-0.333]  3 * area(1,3)  +  [-0.333] area(area(1,3),3)   \n",
      "\n",
      "h1: (3,)  h2 x h3: (3,) x (2,)   poly:  [-0.333] area(area(2,3),3)  +  [-0.333]  2 * 3 * 3  +  [-0.333]  3 * area(2,3)   \n",
      "\n",
      "h1: (3,)  h2 x h3: (3,) x (3,)   poly:  [-0.333]  3 * 3 * 3   \n",
      "\n",
      "h1: (3,)  h2 x h3: (3,) x ((1,), (2,))   poly:  [-0.333] area(1,area(area(2,3),3))  +  [-0.333] area(area(area(1,3),3),2)  +  [-0.333] area(area(1,3),area(2,3))  +  [0.333]  1 * 3 * area(2,3)  +  [-0.333]  2 * area(area(1,3),3)  +  [0.333]  1 * area(area(2,3),3)  +  [-0.333]  2 * 3 * area(1,3)   \n",
      "\n",
      "h1: (3,)  h2 x h3: (3,) x ((1,), (3,))   poly:  [-0.333]  3 * area(area(1,3),3)  +  [-0.333]  3 * 3 * area(1,3)  +  [-0.333] area(area(area(1,3),3),3)   \n",
      "\n",
      "h1: (3,)  h2 x h3: ((1,), (2,)) x (1,)   poly:  [0.333] area(1,area(1,area(2,3)))  +  [-0.333]  1 * 2 * area(1,3)  +  [0.333] area(1,area(area(1,3),2))  +  [-0.333]  1 * area(1,area(2,3))  +  [-0.333]  area(1,2) * area(1,3)  +  [0.667] area(area(1,2),area(1,3))  +  [-0.333]  1 * area(area(1,3),2)  +  [0.333]  1 * 1 * area(2,3)   \n",
      "\n",
      "h1: (3,)  h2 x h3: ((1,), (2,)) x (2,)   poly:  [-0.333]  2 * 2 * area(1,3)  +  [-1.000]  area(1,2) * area(2,3)  +  [0.667] area(1,area(2,area(2,3)))  +  [0.333] area(area(1,area(2,3)),2)  +  [-0.667]  1 * area(2,area(2,3))  +  [0.333]  2 * area(1,area(2,3))  +  [0.333]  1 * 2 * area(2,3)  +  [-0.333] area(area(area(1,3),2),2)  +  [-0.333]  2 * area(area(1,3),2)   \n",
      "\n",
      "h1: (3,)  h2 x h3: ((1,), (2,)) x (3,)   poly:  [-0.333] area(1,area(area(2,3),3))  +  [-0.333] area(area(area(1,3),3),2)  +  [-0.333] area(area(1,3),area(2,3))  +  [0.333]  1 * 3 * area(2,3)  +  [-0.333]  2 * area(area(1,3),3)  +  [0.333]  1 * area(area(2,3),3)  +  [-0.333]  2 * 3 * area(1,3)   \n",
      "\n",
      "h1: (3,)  h2 x h3: ((1,), (2,)) x ((1,), (2,))   poly:  [-0.667]  1 * 2 * area(1,area(2,3))  +  [0.667]  1 * 1 * area(2,area(2,3))  +  [0.667] area(1,area(1,area(2,area(2,3))))  +  [-0.667]  area(1,2) * area(1,area(2,3))  +  [1.333] area(area(1,2),area(1,area(2,3)))  +  [2.000]  1 * area(1,2) * area(2,3)  +  [-1.333]  area(1,2) * area(area(1,3),2)  +  [-1.333]  2 * area(1,2) * area(1,3)  +  [0.667] area(1,area(area(1,area(2,3)),2))  +  [-0.667]  1 * area(1,area(2,area(2,3)))  +  [1.333] area(area(1,2),area(area(1,3),2))  +  [1.000]  3 * area(1,2) * area(1,2)  +  [0.667]  area(1,3) * area(area(1,2),2)  +  [0.667] area(area(area(1,2),2),area(1,3))  +  [-0.667]  1 * area(area(1,area(2,3)),2)   \n",
      "\n",
      "h1: (3,)  h2 x h3: ((1,), (2,)) x ((1,), (3,))   poly:  [-0.167]  1 * area(area(1,3),area(2,3))  +  [0.500] area(area(1,2),area(area(1,3),3))  +  [0.333]  1 * area(1,3) * area(2,3)  +  [-0.500]  area(1,2) * area(area(1,3),3)  +  [-0.333]  2 * area(1,3) * area(1,3)  +  [-0.167]  area(1,3) * area(1,area(2,3))  +  [-0.167] area(area(1,area(2,3)),area(1,3))  +  [0.167] area(area(1,3),area(area(1,3),2))  +  [-0.167]  area(1,3) * area(area(1,3),2)  +  [0.167] area(1,area(area(1,3),area(2,3)))   \n",
      "\n",
      "h1: (3,)  h2 x h3: ((1,), (3,)) x (1,)   poly:  [-0.333]  1 * area(area(1,3),3)  +  [-0.333]  area(1,3) * area(1,3)  +  [0.333] area(1,area(area(1,3),3))  +  [-0.333]  1 * 3 * area(1,3)   \n",
      "\n",
      "h1: (3,)  h2 x h3: ((1,), (3,)) x (2,)   poly:  [-0.333] area(area(area(1,3),3),2)  +  [-0.333]  area(1,3) * area(2,3)  +  [0.333] area(area(1,3),area(2,3))  +  [-0.333]  2 * area(area(1,3),3)  +  [-0.333]  2 * 3 * area(1,3)   \n",
      "\n",
      "h1: (3,)  h2 x h3: ((1,), (3,)) x (3,)   poly:  [-0.333]  3 * area(area(1,3),3)  +  [-0.333]  3 * 3 * area(1,3)  +  [-0.333] area(area(area(1,3),3),3)   \n",
      "\n",
      "h1: (3,)  h2 x h3: ((1,), (3,)) x ((1,), (2,))   poly:  [-0.167]  1 * area(area(1,3),area(2,3))  +  [0.500] area(area(1,2),area(area(1,3),3))  +  [0.333]  1 * area(1,3) * area(2,3)  +  [-0.500]  area(1,2) * area(area(1,3),3)  +  [-0.333]  2 * area(1,3) * area(1,3)  +  [-0.167]  area(1,3) * area(1,area(2,3))  +  [-0.167] area(area(1,area(2,3)),area(1,3))  +  [0.167] area(area(1,3),area(area(1,3),2))  +  [-0.167]  area(1,3) * area(area(1,3),2)  +  [0.167] area(1,area(area(1,3),area(2,3)))   \n",
      "\n",
      "h1: (3,)  h2 x h3: ((1,), (3,)) x ((1,), (3,))   poly:  [-0.667]  area(1,3) * area(area(1,3),3)  +  [0.667] area(area(1,3),area(area(1,3),3))  +  [-0.333]  3 * area(1,3) * area(1,3)   \n",
      "\n",
      "h1: ((1,), (2,))  h2 x h3: (1,) x (1,)   poly:  [-0.667]  1 * area(1,area(1,2))  +  [-0.333]  1 * 1 * area(1,2)  +  [0.667] area(1,area(1,area(1,2)))   \n",
      "\n",
      "h1: ((1,), (2,))  h2 x h3: (1,) x (2,)   poly:  [-0.333]  1 * 2 * area(1,2)  +  [-0.333]  area(1,2) * area(1,2)  +  [-0.667] area(1,area(area(1,2),2))  +  [0.667]  1 * area(area(1,2),2)   \n",
      "\n",
      "h1: ((1,), (2,))  h2 x h3: (1,) x (3,)   poly:  [-0.667] area(1,area(1,area(2,3)))  +  [0.667]  1 * 2 * area(1,3)  +  [-0.667] area(1,area(area(1,3),2))  +  [0.667]  1 * area(1,area(2,3))  +  [-0.333]  area(1,2) * area(1,3)  +  [-0.333] area(area(1,2),area(1,3))  +  [0.667]  1 * area(area(1,3),2)  +  [-0.667]  1 * 1 * area(2,3)  +  [-1.000]  1 * 3 * area(1,2)   \n",
      "\n",
      "h1: ((1,), (2,))  h2 x h3: (1,) x ((1,), (2,))   poly:  [-0.333]  area(1,2) * area(1,area(1,2))  +  [-0.333] area(area(1,area(1,2)),area(1,2))  +  [-0.333]  1 * area(1,2) * area(1,2)   \n",
      "\n",
      "h1: ((1,), (2,))  h2 x h3: (1,) x ((1,), (3,))   poly:  [0.667]  1 * area(area(1,2),area(1,3))  +  [-0.333] area(area(1,area(1,3)),area(1,2))  +  [-0.667] area(1,area(area(1,2),area(1,3)))  +  [-0.333]  area(1,2) * area(1,area(1,3))  +  [-0.333]  1 * area(1,2) * area(1,3)   \n",
      "\n"
     ]
    },
    {
     "name": "stdout",
     "output_type": "stream",
     "text": [
      "h1: ((1,), (2,))  h2 x h3: (2,) x (1,)   poly:  [-0.333]  1 * 2 * area(1,2)  +  [-0.333]  area(1,2) * area(1,2)  +  [-0.667] area(1,area(area(1,2),2))  +  [0.667]  1 * area(area(1,2),2)   \n",
      "\n",
      "h1: ((1,), (2,))  h2 x h3: (2,) x (2,)   poly:  [0.667]  2 * area(area(1,2),2)  +  [0.667] area(area(area(1,2),2),2)  +  [-0.333]  2 * 2 * area(1,2)   \n",
      "\n",
      "h1: ((1,), (2,))  h2 x h3: (2,) x (3,)   poly:  [0.667]  2 * 2 * area(1,3)  +  [-0.333] area(1,area(2,area(2,3)))  +  [0.333] area(area(1,area(2,3)),2)  +  [0.333]  1 * area(2,area(2,3))  +  [-1.000]  2 * 3 * area(1,2)  +  [0.333]  2 * area(1,area(2,3))  +  [-0.667]  1 * 2 * area(2,3)  +  [0.667] area(area(area(1,3),2),2)  +  [0.667]  2 * area(area(1,3),2)   \n",
      "\n",
      "h1: ((1,), (2,))  h2 x h3: (2,) x ((1,), (2,))   poly:  [-0.333]  2 * area(1,2) * area(1,2)  +  [0.333]  area(1,2) * area(area(1,2),2)  +  [-0.333] area(area(1,2),area(area(1,2),2))   \n",
      "\n",
      "h1: ((1,), (2,))  h2 x h3: (2,) x ((1,), (3,))   poly:  [-0.333]  area(1,2) * area(area(1,3),2)  +  [-0.333]  2 * area(1,2) * area(1,3)  +  [0.333] area(area(1,2),area(area(1,3),2))  +  [0.667]  area(1,3) * area(area(1,2),2)  +  [0.667] area(area(area(1,2),2),area(1,3))   \n",
      "\n",
      "h1: ((1,), (2,))  h2 x h3: (3,) x (1,)   poly:  [-0.667] area(1,area(1,area(2,3)))  +  [0.667]  1 * 2 * area(1,3)  +  [-0.667] area(1,area(area(1,3),2))  +  [0.667]  1 * area(1,area(2,3))  +  [-0.333]  area(1,2) * area(1,3)  +  [-0.333] area(area(1,2),area(1,3))  +  [0.667]  1 * area(area(1,3),2)  +  [-0.667]  1 * 1 * area(2,3)  +  [-1.000]  1 * 3 * area(1,2)   \n",
      "\n",
      "h1: ((1,), (2,))  h2 x h3: (3,) x (2,)   poly:  [0.667]  2 * 2 * area(1,3)  +  [-0.333] area(1,area(2,area(2,3)))  +  [0.333] area(area(1,area(2,3)),2)  +  [0.333]  1 * area(2,area(2,3))  +  [-1.000]  2 * 3 * area(1,2)  +  [0.333]  2 * area(1,area(2,3))  +  [-0.667]  1 * 2 * area(2,3)  +  [0.667] area(area(area(1,3),2),2)  +  [0.667]  2 * area(area(1,3),2)   \n",
      "\n",
      "h1: ((1,), (2,))  h2 x h3: (3,) x (3,)   poly:  [0.667] area(1,area(area(2,3),3))  +  [-1.000]  3 * 3 * area(1,2)  +  [0.667] area(area(area(1,3),3),2)  +  [0.667] area(area(1,3),area(2,3))  +  [-0.667]  1 * 3 * area(2,3)  +  [0.667]  2 * area(area(1,3),3)  +  [-0.667]  1 * area(area(2,3),3)  +  [0.667]  2 * 3 * area(1,3)   \n",
      "\n",
      "h1: ((1,), (2,))  h2 x h3: (3,) x ((1,), (2,))   poly:  [0.333]  1 * 2 * area(1,area(2,3))  +  [-0.333]  1 * 1 * area(2,area(2,3))  +  [-0.333] area(1,area(1,area(2,area(2,3))))  +  [0.333]  area(1,2) * area(1,area(2,3))  +  [-0.667] area(area(1,2),area(1,area(2,3)))  +  [-1.000]  1 * area(1,2) * area(2,3)  +  [0.667]  area(1,2) * area(area(1,3),2)  +  [0.667]  2 * area(1,2) * area(1,3)  +  [-0.333] area(1,area(area(1,area(2,3)),2))  +  [0.333]  1 * area(1,area(2,area(2,3)))  +  [-0.667] area(area(1,2),area(area(1,3),2))  +  [-1.000]  3 * area(1,2) * area(1,2)  +  [-0.333]  area(1,3) * area(area(1,2),2)  +  [-0.333] area(area(area(1,2),2),area(1,3))  +  [0.333]  1 * area(area(1,area(2,3)),2)   \n",
      "\n",
      "h1: ((1,), (2,))  h2 x h3: (3,) x ((1,), (3,))   poly:  [0.333]  1 * area(area(1,3),area(2,3))  +  [-1.000]  3 * area(1,2) * area(1,3)  +  [-0.667]  1 * area(1,3) * area(2,3)  +  [0.667]  2 * area(1,3) * area(1,3)  +  [0.333]  area(1,3) * area(1,area(2,3))  +  [0.333] area(area(1,area(2,3)),area(1,3))  +  [-0.333] area(area(1,3),area(area(1,3),2))  +  [0.333]  area(1,3) * area(area(1,3),2)  +  [-0.333] area(1,area(area(1,3),area(2,3)))   \n",
      "\n",
      "h1: ((1,), (2,))  h2 x h3: ((1,), (2,)) x (1,)   poly:  [-0.333]  area(1,2) * area(1,area(1,2))  +  [-0.333] area(area(1,area(1,2)),area(1,2))  +  [-0.333]  1 * area(1,2) * area(1,2)   \n",
      "\n",
      "h1: ((1,), (2,))  h2 x h3: ((1,), (2,)) x (2,)   poly:  [-0.333]  2 * area(1,2) * area(1,2)  +  [0.333]  area(1,2) * area(area(1,2),2)  +  [-0.333] area(area(1,2),area(area(1,2),2))   \n",
      "\n",
      "h1: ((1,), (2,))  h2 x h3: ((1,), (2,)) x (3,)   poly:  [0.333]  1 * 2 * area(1,area(2,3))  +  [-0.333]  1 * 1 * area(2,area(2,3))  +  [-0.333] area(1,area(1,area(2,area(2,3))))  +  [0.333]  area(1,2) * area(1,area(2,3))  +  [-0.667] area(area(1,2),area(1,area(2,3)))  +  [-1.000]  1 * area(1,2) * area(2,3)  +  [0.667]  area(1,2) * area(area(1,3),2)  +  [0.667]  2 * area(1,2) * area(1,3)  +  [-0.333] area(1,area(area(1,area(2,3)),2))  +  [0.333]  1 * area(1,area(2,area(2,3)))  +  [-0.667] area(area(1,2),area(area(1,3),2))  +  [-1.000]  3 * area(1,2) * area(1,2)  +  [-0.333]  area(1,3) * area(area(1,2),2)  +  [-0.333] area(area(area(1,2),2),area(1,3))  +  [0.333]  1 * area(area(1,area(2,3)),2)   \n",
      "\n",
      "h1: ((1,), (2,))  h2 x h3: ((1,), (2,)) x ((1,), (2,))   poly:  [-0.333]  area(1,2) * area(1,2) * area(1,2)   \n",
      "\n",
      "h1: ((1,), (2,))  h2 x h3: ((1,), (2,)) x ((1,), (3,))   poly:  [-0.333] area(area(1,2),area(area(1,2),area(1,3)))  +  [-0.333]  area(1,2) * area(1,2) * area(1,3)  +  [0.333]  area(1,2) * area(area(1,2),area(1,3))   \n",
      "\n",
      "h1: ((1,), (2,))  h2 x h3: ((1,), (3,)) x (1,)   poly:  [0.667]  1 * area(area(1,2),area(1,3))  +  [-0.333] area(area(1,area(1,3)),area(1,2))  +  [-0.667] area(1,area(area(1,2),area(1,3)))  +  [-0.333]  area(1,2) * area(1,area(1,3))  +  [-0.333]  1 * area(1,2) * area(1,3)   \n",
      "\n",
      "h1: ((1,), (2,))  h2 x h3: ((1,), (3,)) x (2,)   poly:  [-0.333]  area(1,2) * area(area(1,3),2)  +  [-0.333]  2 * area(1,2) * area(1,3)  +  [0.333] area(area(1,2),area(area(1,3),2))  +  [0.667]  area(1,3) * area(area(1,2),2)  +  [0.667] area(area(area(1,2),2),area(1,3))   \n",
      "\n",
      "h1: ((1,), (2,))  h2 x h3: ((1,), (3,)) x (3,)   poly:  [0.333]  1 * area(area(1,3),area(2,3))  +  [-1.000]  3 * area(1,2) * area(1,3)  +  [-0.667]  1 * area(1,3) * area(2,3)  +  [0.667]  2 * area(1,3) * area(1,3)  +  [0.333]  area(1,3) * area(1,area(2,3))  +  [0.333] area(area(1,area(2,3)),area(1,3))  +  [-0.333] area(area(1,3),area(area(1,3),2))  +  [0.333]  area(1,3) * area(area(1,3),2)  +  [-0.333] area(1,area(area(1,3),area(2,3)))   \n",
      "\n",
      "h1: ((1,), (2,))  h2 x h3: ((1,), (3,)) x ((1,), (2,))   poly:  [-0.333] area(area(1,2),area(area(1,2),area(1,3)))  +  [-0.333]  area(1,2) * area(1,2) * area(1,3)  +  [0.333]  area(1,2) * area(area(1,2),area(1,3))   \n",
      "\n",
      "h1: ((1,), (2,))  h2 x h3: ((1,), (3,)) x ((1,), (3,))   poly:  [-0.333]  area(1,2) * area(1,3) * area(1,3)  +  [0.667]  area(1,3) * area(area(1,2),area(1,3))  +  [0.667] area(area(area(1,2),area(1,3)),area(1,3))   \n",
      "\n",
      "h1: ((1,), (3,))  h2 x h3: (1,) x (1,)   poly:  [0.667] area(1,area(1,area(1,3)))  +  [-0.667]  1 * area(1,area(1,3))  +  [-0.333]  1 * 1 * area(1,3)   \n",
      "\n",
      "h1: ((1,), (3,))  h2 x h3: (1,) x (2,)   poly:  [-0.333]  1 * 2 * area(1,3)  +  [-0.667] area(1,area(area(1,3),2))  +  [-0.333]  area(1,2) * area(1,3)  +  [-0.333] area(area(1,2),area(1,3))  +  [0.667]  1 * area(area(1,3),2)   \n",
      "\n",
      "h1: ((1,), (3,))  h2 x h3: (1,) x (3,)   poly:  [0.667]  1 * area(area(1,3),3)  +  [-0.333]  area(1,3) * area(1,3)  +  [-0.667] area(1,area(area(1,3),3))  +  [-0.333]  1 * 3 * area(1,3)   \n",
      "\n",
      "h1: ((1,), (3,))  h2 x h3: (1,) x ((1,), (2,))   poly:  [-0.333]  1 * area(area(1,2),area(1,3))  +  [-0.333] area(area(1,area(1,3)),area(1,2))  +  [0.333] area(1,area(area(1,2),area(1,3)))  +  [-0.333]  area(1,2) * area(1,area(1,3))  +  [-0.333]  1 * area(1,2) * area(1,3)   \n",
      "\n",
      "h1: ((1,), (3,))  h2 x h3: (1,) x ((1,), (3,))   poly:  [-0.333] area(area(1,area(1,3)),area(1,3))  +  [-0.333]  1 * area(1,3) * area(1,3)  +  [-0.333]  area(1,3) * area(1,area(1,3))   \n",
      "\n",
      "h1: ((1,), (3,))  h2 x h3: (2,) x (1,)   poly:  [-0.333]  1 * 2 * area(1,3)  +  [-0.667] area(1,area(area(1,3),2))  +  [-0.333]  area(1,2) * area(1,3)  +  [-0.333] area(area(1,2),area(1,3))  +  [0.667]  1 * area(area(1,3),2)   \n",
      "\n",
      "h1: ((1,), (3,))  h2 x h3: (2,) x (2,)   poly:  [-0.333]  2 * 2 * area(1,3)  +  [0.667] area(area(area(1,3),2),2)  +  [0.667]  2 * area(area(1,3),2)   \n",
      "\n",
      "h1: ((1,), (3,))  h2 x h3: (2,) x (3,)   poly:  [0.667] area(area(area(1,3),3),2)  +  [-0.333]  area(1,3) * area(2,3)  +  [0.333] area(area(1,3),area(2,3))  +  [0.667]  2 * area(area(1,3),3)  +  [-0.333]  2 * 3 * area(1,3)   \n",
      "\n",
      "h1: ((1,), (3,))  h2 x h3: (2,) x ((1,), (2,))   poly:  [0.667]  area(1,2) * area(area(1,3),2)  +  [-0.333]  2 * area(1,2) * area(1,3)  +  [-0.667] area(area(1,2),area(area(1,3),2))  +  [-0.333]  area(1,3) * area(area(1,2),2)  +  [-0.333] area(area(area(1,2),2),area(1,3))   \n",
      "\n",
      "h1: ((1,), (3,))  h2 x h3: (2,) x ((1,), (3,))   poly:  [-0.333]  2 * area(1,3) * area(1,3)  +  [-0.333] area(area(1,3),area(area(1,3),2))  +  [0.333]  area(1,3) * area(area(1,3),2)   \n",
      "\n"
     ]
    },
    {
     "name": "stdout",
     "output_type": "stream",
     "text": [
      "h1: ((1,), (3,))  h2 x h3: (3,) x (1,)   poly:  [0.667]  1 * area(area(1,3),3)  +  [-0.333]  area(1,3) * area(1,3)  +  [-0.667] area(1,area(area(1,3),3))  +  [-0.333]  1 * 3 * area(1,3)   \n",
      "\n",
      "h1: ((1,), (3,))  h2 x h3: (3,) x (2,)   poly:  [0.667] area(area(area(1,3),3),2)  +  [-0.333]  area(1,3) * area(2,3)  +  [0.333] area(area(1,3),area(2,3))  +  [0.667]  2 * area(area(1,3),3)  +  [-0.333]  2 * 3 * area(1,3)   \n",
      "\n",
      "h1: ((1,), (3,))  h2 x h3: (3,) x (3,)   poly:  [0.667]  3 * area(area(1,3),3)  +  [-0.333]  3 * 3 * area(1,3)  +  [0.667] area(area(area(1,3),3),3)   \n",
      "\n",
      "h1: ((1,), (3,))  h2 x h3: (3,) x ((1,), (2,))   poly:  [-0.167]  1 * area(area(1,3),area(2,3))  +  [-0.500] area(area(1,2),area(area(1,3),3))  +  [0.333]  1 * area(1,3) * area(2,3)  +  [0.500]  area(1,2) * area(area(1,3),3)  +  [-0.333]  2 * area(1,3) * area(1,3)  +  [-0.167]  area(1,3) * area(1,area(2,3))  +  [-0.167] area(area(1,area(2,3)),area(1,3))  +  [0.167] area(area(1,3),area(area(1,3),2))  +  [-0.167]  area(1,3) * area(area(1,3),2)  +  [0.167] area(1,area(area(1,3),area(2,3)))   \n",
      "\n",
      "h1: ((1,), (3,))  h2 x h3: (3,) x ((1,), (3,))   poly:  [0.333]  area(1,3) * area(area(1,3),3)  +  [-0.333] area(area(1,3),area(area(1,3),3))  +  [-0.333]  3 * area(1,3) * area(1,3)   \n",
      "\n",
      "h1: ((1,), (3,))  h2 x h3: ((1,), (2,)) x (1,)   poly:  [-0.333]  1 * area(area(1,2),area(1,3))  +  [-0.333] area(area(1,area(1,3)),area(1,2))  +  [0.333] area(1,area(area(1,2),area(1,3)))  +  [-0.333]  area(1,2) * area(1,area(1,3))  +  [-0.333]  1 * area(1,2) * area(1,3)   \n",
      "\n",
      "h1: ((1,), (3,))  h2 x h3: ((1,), (2,)) x (2,)   poly:  [0.667]  area(1,2) * area(area(1,3),2)  +  [-0.333]  2 * area(1,2) * area(1,3)  +  [-0.667] area(area(1,2),area(area(1,3),2))  +  [-0.333]  area(1,3) * area(area(1,2),2)  +  [-0.333] area(area(area(1,2),2),area(1,3))   \n",
      "\n",
      "h1: ((1,), (3,))  h2 x h3: ((1,), (2,)) x (3,)   poly:  [-0.167]  1 * area(area(1,3),area(2,3))  +  [-0.500] area(area(1,2),area(area(1,3),3))  +  [0.333]  1 * area(1,3) * area(2,3)  +  [0.500]  area(1,2) * area(area(1,3),3)  +  [-0.333]  2 * area(1,3) * area(1,3)  +  [-0.167]  area(1,3) * area(1,area(2,3))  +  [-0.167] area(area(1,area(2,3)),area(1,3))  +  [0.167] area(area(1,3),area(area(1,3),2))  +  [-0.167]  area(1,3) * area(area(1,3),2)  +  [0.167] area(1,area(area(1,3),area(2,3)))   \n",
      "\n",
      "h1: ((1,), (3,))  h2 x h3: ((1,), (2,)) x ((1,), (2,))   poly:  [0.667] area(area(1,2),area(area(1,2),area(1,3)))  +  [-0.333]  area(1,2) * area(1,2) * area(1,3)  +  [-0.667]  area(1,2) * area(area(1,2),area(1,3))   \n",
      "\n",
      "h1: ((1,), (3,))  h2 x h3: ((1,), (2,)) x ((1,), (3,))   poly:  [-0.333]  area(1,2) * area(1,3) * area(1,3)  +  [-0.333]  area(1,3) * area(area(1,2),area(1,3))  +  [-0.333] area(area(area(1,2),area(1,3)),area(1,3))   \n",
      "\n",
      "h1: ((1,), (3,))  h2 x h3: ((1,), (3,)) x (1,)   poly:  [-0.333] area(area(1,area(1,3)),area(1,3))  +  [-0.333]  1 * area(1,3) * area(1,3)  +  [-0.333]  area(1,3) * area(1,area(1,3))   \n",
      "\n",
      "h1: ((1,), (3,))  h2 x h3: ((1,), (3,)) x (2,)   poly:  [-0.333]  2 * area(1,3) * area(1,3)  +  [-0.333] area(area(1,3),area(area(1,3),2))  +  [0.333]  area(1,3) * area(area(1,3),2)   \n",
      "\n",
      "h1: ((1,), (3,))  h2 x h3: ((1,), (3,)) x (3,)   poly:  [0.333]  area(1,3) * area(area(1,3),3)  +  [-0.333] area(area(1,3),area(area(1,3),3))  +  [-0.333]  3 * area(1,3) * area(1,3)   \n",
      "\n",
      "h1: ((1,), (3,))  h2 x h3: ((1,), (3,)) x ((1,), (2,))   poly:  [-0.333]  area(1,2) * area(1,3) * area(1,3)  +  [-0.333]  area(1,3) * area(area(1,2),area(1,3))  +  [-0.333] area(area(area(1,2),area(1,3)),area(1,3))   \n",
      "\n",
      "h1: ((1,), (3,))  h2 x h3: ((1,), (3,)) x ((1,), (3,))   poly:  [-0.333]  area(1,3) * area(1,3) * area(1,3)   \n",
      "\n",
      "h1: ((2,), (3,))  h2 x h3: (1,) x (1,)   poly:  [0.667] area(1,area(1,area(2,3)))  +  [-0.667]  1 * area(1,area(2,3))  +  [-0.333]  1 * 1 * area(2,3)   \n",
      "\n",
      "h1: ((2,), (3,))  h2 x h3: (1,) x (2,)   poly:  [0.333] area(1,area(2,area(2,3)))  +  [-0.333] area(area(1,area(2,3)),2)  +  [-0.333]  1 * area(2,area(2,3))  +  [-0.333]  2 * area(1,area(2,3))  +  [-0.333]  1 * 2 * area(2,3)   \n",
      "\n",
      "h1: ((2,), (3,))  h2 x h3: (1,) x (3,)   poly:  [-0.667] area(1,area(area(2,3),3))  +  [-0.333]  area(1,3) * area(2,3)  +  [-0.333] area(area(1,3),area(2,3))  +  [-0.333]  1 * 3 * area(2,3)  +  [0.667]  1 * area(area(2,3),3)   \n",
      "\n",
      "h1: ((2,), (3,))  h2 x h3: (1,) x ((1,), (2,))   poly:  [-0.333]  1 * 2 * area(1,area(2,3))  +  [0.333]  1 * 1 * area(2,area(2,3))  +  [0.333] area(1,area(1,area(2,area(2,3))))  +  [-0.333]  area(1,2) * area(1,area(2,3))  +  [0.667] area(area(1,2),area(1,area(2,3)))  +  [0.333] area(1,area(area(1,area(2,3)),2))  +  [-0.333]  1 * area(1,area(2,area(2,3)))  +  [-0.333]  1 * area(area(1,area(2,3)),2)   \n",
      "\n",
      "h1: ((2,), (3,))  h2 x h3: (1,) x ((1,), (3,))   poly:  [-0.333]  1 * area(area(1,3),area(2,3))  +  [-0.333]  1 * area(1,3) * area(2,3)  +  [-0.333]  area(1,3) * area(1,area(2,3))  +  [-0.333] area(area(1,area(2,3)),area(1,3))  +  [0.333] area(1,area(area(1,3),area(2,3)))   \n",
      "\n",
      "h1: ((2,), (3,))  h2 x h3: (2,) x (1,)   poly:  [0.333] area(1,area(2,area(2,3)))  +  [-0.333] area(area(1,area(2,3)),2)  +  [-0.333]  1 * area(2,area(2,3))  +  [-0.333]  2 * area(1,area(2,3))  +  [-0.333]  1 * 2 * area(2,3)   \n",
      "\n",
      "h1: ((2,), (3,))  h2 x h3: (2,) x (2,)   poly:  [-0.333]  2 * 2 * area(2,3)  +  [-0.667]  2 * area(2,area(2,3))  +  [0.667] area(2,area(2,area(2,3)))   \n",
      "\n",
      "h1: ((2,), (3,))  h2 x h3: (2,) x (3,)   poly:  [-0.333]  area(2,3) * area(2,3)  +  [-0.667] area(2,area(area(2,3),3))  +  [0.667]  2 * area(area(2,3),3)  +  [-0.333]  2 * 3 * area(2,3)   \n",
      "\n",
      "h1: ((2,), (3,))  h2 x h3: (2,) x ((1,), (2,))   poly:  [-0.333]  2 * 2 * area(1,area(2,3))  +  [0.333] area(area(1,area(2,area(2,3))),2)  +  [0.333]  2 * area(1,area(2,area(2,3)))  +  [-0.333]  2 * area(area(1,area(2,3)),2)  +  [0.667] area(1,area(2,area(2,area(2,3))))  +  [0.333]  1 * 2 * area(2,area(2,3))  +  [-1.000]  area(1,2) * area(2,area(2,3))  +  [-0.667]  1 * area(2,area(2,area(2,3)))  +  [-0.333] area(area(area(1,area(2,3)),2),2)   \n",
      "\n",
      "h1: ((2,), (3,))  h2 x h3: (2,) x ((1,), (3,))   poly:  [-0.333] area(area(area(1,3),area(2,3)),2)  +  [-0.333]  area(1,3) * area(2,area(2,3))  +  [0.333] area(area(1,3),area(2,area(2,3)))  +  [-0.333]  2 * area(area(1,3),area(2,3))  +  [-0.333]  2 * area(1,3) * area(2,3)   \n",
      "\n",
      "h1: ((2,), (3,))  h2 x h3: (3,) x (1,)   poly:  [-0.667] area(1,area(area(2,3),3))  +  [-0.333]  area(1,3) * area(2,3)  +  [-0.333] area(area(1,3),area(2,3))  +  [-0.333]  1 * 3 * area(2,3)  +  [0.667]  1 * area(area(2,3),3)   \n",
      "\n",
      "h1: ((2,), (3,))  h2 x h3: (3,) x (2,)   poly:  [-0.333]  area(2,3) * area(2,3)  +  [-0.667] area(2,area(area(2,3),3))  +  [0.667]  2 * area(area(2,3),3)  +  [-0.333]  2 * 3 * area(2,3)   \n",
      "\n",
      "h1: ((2,), (3,))  h2 x h3: (3,) x (3,)   poly:  [-0.333]  3 * 3 * area(2,3)  +  [0.667] area(area(area(2,3),3),3)  +  [0.667]  3 * area(area(2,3),3)   \n",
      "\n",
      "h1: ((2,), (3,))  h2 x h3: (3,) x ((1,), (2,))   poly:  [-0.333] area(area(area(1,3),area(2,3)),2)  +  [-0.167]  area(2,3) * area(1,area(2,3))  +  [-0.500] area(1,area(2,area(area(2,3),3)))  +  [0.333]  1 * area(2,3) * area(2,3)  +  [-0.167] area(area(1,area(2,3)),area(2,3))  +  [0.167]  area(1,3) * area(2,area(2,3))  +  [-0.167] area(area(1,3),area(2,area(2,3)))  +  [-0.333]  2 * area(area(1,3),area(2,3))  +  [1.000]  area(1,2) * area(area(2,3),3)  +  [0.500]  1 * area(2,area(area(2,3),3))  +  [-0.333]  2 * area(1,3) * area(2,3)  +  [-0.500]  2 * area(1,area(area(2,3),3))  +  [-0.500] area(area(1,area(area(2,3),3)),2)   \n",
      "\n",
      "h1: ((2,), (3,))  h2 x h3: (3,) x ((1,), (3,))   poly:  [-0.333]  area(2,3) * area(area(1,3),3)  +  [-0.333] area(area(area(1,3),3),area(2,3))  +  [-0.333]  3 * area(1,3) * area(2,3)  +  [0.667]  area(1,3) * area(area(2,3),3)  +  [-0.667] area(area(1,3),area(area(2,3),3))   \n",
      "\n",
      "h1: ((2,), (3,))  h2 x h3: ((1,), (2,)) x (1,)   poly:  [-0.333]  1 * 2 * area(1,area(2,3))  +  [0.333]  1 * 1 * area(2,area(2,3))  +  [0.333] area(1,area(1,area(2,area(2,3))))  +  [-0.333]  area(1,2) * area(1,area(2,3))  +  [0.667] area(area(1,2),area(1,area(2,3)))  +  [0.333] area(1,area(area(1,area(2,3)),2))  +  [-0.333]  1 * area(1,area(2,area(2,3)))  +  [-0.333]  1 * area(area(1,area(2,3)),2)   \n",
      "\n",
      "h1: ((2,), (3,))  h2 x h3: ((1,), (2,)) x (2,)   poly:  [-0.333]  2 * 2 * area(1,area(2,3))  +  [0.333] area(area(1,area(2,area(2,3))),2)  +  [0.333]  2 * area(1,area(2,area(2,3)))  +  [-0.333]  2 * area(area(1,area(2,3)),2)  +  [0.667] area(1,area(2,area(2,area(2,3))))  +  [0.333]  1 * 2 * area(2,area(2,3))  +  [-1.000]  area(1,2) * area(2,area(2,3))  +  [-0.667]  1 * area(2,area(2,area(2,3)))  +  [-0.333] area(area(area(1,area(2,3)),2),2)   \n",
      "\n"
     ]
    },
    {
     "name": "stdout",
     "output_type": "stream",
     "text": [
      "h1: ((2,), (3,))  h2 x h3: ((1,), (2,)) x (3,)   poly:  [-0.333] area(area(area(1,3),area(2,3)),2)  +  [-0.167]  area(2,3) * area(1,area(2,3))  +  [-0.500] area(1,area(2,area(area(2,3),3)))  +  [0.333]  1 * area(2,3) * area(2,3)  +  [-0.167] area(area(1,area(2,3)),area(2,3))  +  [0.167]  area(1,3) * area(2,area(2,3))  +  [-0.167] area(area(1,3),area(2,area(2,3)))  +  [-0.333]  2 * area(area(1,3),area(2,3))  +  [1.000]  area(1,2) * area(area(2,3),3)  +  [0.500]  1 * area(2,area(area(2,3),3))  +  [-0.333]  2 * area(1,3) * area(2,3)  +  [-0.500]  2 * area(1,area(area(2,3),3))  +  [-0.500] area(area(1,area(area(2,3),3)),2)   \n",
      "\n",
      "h1: ((2,), (3,))  h2 x h3: ((1,), (2,)) x ((1,), (2,))   poly:  [-0.667]  1 * 2 * area(1,area(2,area(2,3)))  +  [1.333] area(area(1,2),area(1,area(2,area(2,3))))  +  [-0.667]  1 * area(1,area(2,area(2,area(2,3))))  +  [0.667] area(1,area(area(1,area(2,area(2,3))),2))  +  [0.667]  area(area(1,2),2) * area(1,area(2,3))  +  [-0.667]  area(1,2) * area(1,area(2,area(2,3)))  +  [0.667] area(area(area(1,2),2),area(1,area(2,3)))  +  [0.667]  1 * 1 * area(2,area(2,area(2,3)))  +  [-1.333]  2 * area(1,2) * area(1,area(2,3))  +  [1.000]  area(1,2) * area(1,2) * area(2,3)  +  [0.667] area(1,area(1,area(2,area(2,area(2,3)))))  +  [1.333] area(area(1,2),area(area(1,area(2,3)),2))  +  [-0.667]  1 * area(area(1,area(2,area(2,3))),2)  +  [-1.333]  area(1,2) * area(area(1,area(2,3)),2)  +  [2.000]  1 * area(1,2) * area(2,area(2,3))   \n",
      "\n",
      "h1: ((2,), (3,))  h2 x h3: ((1,), (2,)) x ((1,), (3,))   poly:  [0.167]  area(1,area(2,3)) * area(area(1,3),2)  +  [-0.167] area(area(1,area(2,3)),area(area(1,3),2))  +  [0.167] area(1,area(area(1,3),area(2,area(2,3))))  +  [-0.167]  area(1,3) * area(1,area(2,area(2,3)))  +  [-0.500]  area(1,2) * area(area(1,3),area(2,3))  +  [-0.333] area(area(area(1,area(2,3)),2),area(1,3))  +  [-0.333]  2 * area(1,3) * area(1,area(2,3))  +  [0.333]  1 * area(1,3) * area(2,area(2,3))  +  [-0.167] area(area(1,area(2,area(2,3))),area(1,3))  +  [0.500] area(area(1,2),area(area(1,3),area(2,3)))  +  [-0.333]  area(1,3) * area(area(1,area(2,3)),2)  +  [-0.167]  1 * area(area(1,3),area(2,area(2,3)))   \n",
      "\n",
      "h1: ((2,), (3,))  h2 x h3: ((1,), (3,)) x (1,)   poly:  [-0.333]  1 * area(area(1,3),area(2,3))  +  [-0.333]  1 * area(1,3) * area(2,3)  +  [-0.333]  area(1,3) * area(1,area(2,3))  +  [-0.333] area(area(1,area(2,3)),area(1,3))  +  [0.333] area(1,area(area(1,3),area(2,3)))   \n",
      "\n",
      "h1: ((2,), (3,))  h2 x h3: ((1,), (3,)) x (2,)   poly:  [-0.333] area(area(area(1,3),area(2,3)),2)  +  [-0.333]  area(1,3) * area(2,area(2,3))  +  [0.333] area(area(1,3),area(2,area(2,3)))  +  [-0.333]  2 * area(area(1,3),area(2,3))  +  [-0.333]  2 * area(1,3) * area(2,3)   \n",
      "\n",
      "h1: ((2,), (3,))  h2 x h3: ((1,), (3,)) x (3,)   poly:  [-0.333]  area(2,3) * area(area(1,3),3)  +  [-0.333] area(area(area(1,3),3),area(2,3))  +  [-0.333]  3 * area(1,3) * area(2,3)  +  [0.667]  area(1,3) * area(area(2,3),3)  +  [-0.667] area(area(1,3),area(area(2,3),3))   \n",
      "\n",
      "h1: ((2,), (3,))  h2 x h3: ((1,), (3,)) x ((1,), (2,))   poly:  [0.167]  area(1,area(2,3)) * area(area(1,3),2)  +  [-0.167] area(area(1,area(2,3)),area(area(1,3),2))  +  [0.167] area(1,area(area(1,3),area(2,area(2,3))))  +  [-0.167]  area(1,3) * area(1,area(2,area(2,3)))  +  [-0.500]  area(1,2) * area(area(1,3),area(2,3))  +  [-0.333] area(area(area(1,area(2,3)),2),area(1,3))  +  [-0.333]  2 * area(1,3) * area(1,area(2,3))  +  [0.333]  1 * area(1,3) * area(2,area(2,3))  +  [-0.167] area(area(1,area(2,area(2,3))),area(1,3))  +  [0.500] area(area(1,2),area(area(1,3),area(2,3)))  +  [-0.333]  area(1,3) * area(area(1,area(2,3)),2)  +  [-0.167]  1 * area(area(1,3),area(2,area(2,3)))   \n",
      "\n",
      "h1: ((2,), (3,))  h2 x h3: ((1,), (3,)) x ((1,), (3,))   poly:  [0.667] area(area(1,3),area(area(1,3),area(2,3)))  +  [-0.667]  area(1,3) * area(area(1,3),area(2,3))  +  [-0.333]  area(1,3) * area(1,3) * area(2,3)   \n",
      "\n",
      "h1: ((1,), ((1,), (2,)))  h2 x h3: (1,) x (1,)   poly:  [-0.667]  1 * area(1,area(1,area(1,2)))  +  [-0.333]  1 * 1 * area(1,area(1,2))  +  [0.667] area(1,area(1,area(1,area(1,2))))   \n",
      "\n",
      "h1: ((1,), ((1,), (2,)))  h2 x h3: (1,) x (2,)   poly:  [-0.333]  area(1,2) * area(1,area(1,2))  +  [-0.333] area(area(1,area(1,2)),area(1,2))  +  [-0.667] area(1,area(1,area(area(1,2),2)))  +  [-0.667]  1 * 1 * area(area(1,2),2)  +  [0.667]  1 * area(1,area(area(1,2),2))  +  [0.667]  1 * area(1,2) * area(1,2)  +  [-1.000]  1 * 2 * area(1,area(1,2))   \n",
      "\n",
      "h1: ((1,), ((1,), (2,)))  h2 x h3: (1,) x (3,)   poly:  [-0.667]  1 * 1 * area(area(1,3),2)  +  [0.333]  1 * area(area(1,2),area(1,3))  +  [-0.333] area(area(1,area(1,3)),area(1,2))  +  [-0.333] area(1,area(area(1,2),area(1,3)))  +  [-0.333]  area(1,2) * area(1,area(1,3))  +  [-0.667] area(1,area(1,area(area(1,3),2)))  +  [0.667]  1 * 1 * 3 * area(1,2)  +  [0.667]  1 * area(1,2) * area(1,3)  +  [-0.667]  1 * 1 * 2 * area(1,3)  +  [0.667]  1 * 1 * 1 * area(2,3)  +  [-1.000]  1 * 3 * area(1,area(1,2))  +  [0.667]  1 * area(1,area(1,area(2,3)))  +  [-0.667]  1 * 1 * area(1,area(2,3))  +  [0.667]  1 * area(1,area(area(1,3),2))  +  [-0.667] area(1,area(1,area(1,area(2,3))))   \n",
      "\n",
      "h1: ((1,), ((1,), (2,)))  h2 x h3: (1,) x ((1,), (2,))   poly:  [-0.667] area(1,area(area(1,area(1,2)),area(1,2)))  +  [-0.333]  area(1,area(1,2)) * area(1,area(1,2))  +  [-0.333]  1 * area(1,2) * area(1,area(1,2))  +  [0.667]  1 * area(area(1,area(1,2)),area(1,2))   \n",
      "\n",
      "h1: ((1,), ((1,), (2,)))  h2 x h3: (1,) x ((1,), (3,))   poly:  [-0.333]  area(1,area(1,2)) * area(1,area(1,3))  +  [0.667]  1 * area(1,2) * area(1,area(1,3))  +  [0.667]  1 * area(1,area(area(1,2),area(1,3)))  +  [-0.667] area(1,area(area(1,area(1,3)),area(1,2)))  +  [-0.333] area(area(1,area(1,2)),area(1,area(1,3)))  +  [-0.667] area(1,area(1,area(area(1,2),area(1,3))))  +  [-1.000]  1 * area(1,3) * area(1,area(1,2))  +  [-0.667]  1 * 1 * area(area(1,2),area(1,3))  +  [0.667]  1 * area(area(1,area(1,3)),area(1,2))   \n",
      "\n",
      "h1: ((1,), ((1,), (2,)))  h2 x h3: (2,) x (1,)   poly:  [-0.333]  area(1,2) * area(1,area(1,2))  +  [-0.333] area(area(1,area(1,2)),area(1,2))  +  [-0.667] area(1,area(1,area(area(1,2),2)))  +  [-0.667]  1 * 1 * area(area(1,2),2)  +  [0.667]  1 * area(1,area(area(1,2),2))  +  [0.667]  1 * area(1,2) * area(1,2)  +  [-1.000]  1 * 2 * area(1,area(1,2))   \n",
      "\n",
      "h1: ((1,), ((1,), (2,)))  h2 x h3: (2,) x (2,)   poly:  [-0.667]  1 * area(area(area(1,2),2),2)  +  [0.667]  2 * area(1,2) * area(1,2)  +  [-0.667]  1 * 2 * area(area(1,2),2)  +  [0.667]  area(1,2) * area(area(1,2),2)  +  [-1.000]  2 * 2 * area(1,area(1,2))  +  [0.667] area(1,area(area(area(1,2),2),2))   \n",
      "\n",
      "h1: ((1,), ((1,), (2,)))  h2 x h3: (2,) x (3,)   poly:  [0.667] area(1,area(area(area(1,3),2),2))  +  [0.667]  1 * 2 * 3 * area(1,2)  +  [-0.333]  1 * 2 * area(1,area(2,3))  +  [-0.333]  1 * 1 * area(2,area(2,3))  +  [-0.333] area(1,area(1,area(2,area(2,3))))  +  [0.333]  area(1,2) * area(1,area(2,3))  +  [-0.333]  1 * area(1,2) * area(2,3)  +  [0.667]  1 * 1 * 2 * area(2,3)  +  [-0.667]  1 * 2 * area(area(1,3),2)  +  [-0.667]  1 * area(area(area(1,3),2),2)  +  [0.667]  area(1,2) * area(area(1,3),2)  +  [0.667]  2 * area(1,2) * area(1,3)  +  [0.333] area(1,area(area(1,area(2,3)),2))  +  [-1.000]  2 * 3 * area(1,area(1,2))  +  [0.333]  1 * area(1,area(2,area(2,3)))  +  [-0.667]  1 * 2 * 2 * area(1,3)  +  [-0.333]  1 * area(area(1,area(2,3)),2)   \n",
      "\n",
      "h1: ((1,), ((1,), (2,)))  h2 x h3: (2,) x ((1,), (2,))   poly:  [0.333] area(area(1,area(area(1,2),2)),area(1,2))  +  [-1.000]  2 * area(1,2) * area(1,area(1,2))  +  [0.333]  1 * area(area(1,2),area(area(1,2),2))  +  [0.333]  area(1,2) * area(1,area(area(1,2),2))  +  [0.667]  area(1,2) * area(1,2) * area(1,2)  +  [-0.667]  1 * area(1,2) * area(area(1,2),2)  +  [-0.333] area(1,area(area(1,2),area(area(1,2),2)))   \n",
      "\n",
      "h1: ((1,), ((1,), (2,)))  h2 x h3: (2,) x ((1,), (3,))   poly:  [-0.667]  1 * area(area(area(1,2),2),area(1,3))  +  [-0.333] area(area(1,2),area(area(1,2),area(1,3)))  +  [0.667]  area(1,2) * area(1,2) * area(1,3)  +  [0.333]  area(1,2) * area(area(1,2),area(1,3))  +  [0.333] area(area(1,area(1,3)),area(area(1,2),2))  +  [-0.667]  1 * area(1,3) * area(area(1,2),2)  +  [0.667] area(1,area(area(area(1,2),2),area(1,3)))  +  [0.333]  area(1,area(1,3)) * area(area(1,2),2)  +  [-1.000]  2 * area(1,3) * area(1,area(1,2))   \n",
      "\n"
     ]
    },
    {
     "name": "stdout",
     "output_type": "stream",
     "text": [
      "h1: ((1,), ((1,), (2,)))  h2 x h3: (3,) x (1,)   poly:  [-0.667]  1 * 1 * area(area(1,3),2)  +  [0.333]  1 * area(area(1,2),area(1,3))  +  [-0.333] area(area(1,area(1,3)),area(1,2))  +  [-0.333] area(1,area(area(1,2),area(1,3)))  +  [-0.333]  area(1,2) * area(1,area(1,3))  +  [-0.667] area(1,area(1,area(area(1,3),2)))  +  [0.667]  1 * 1 * 3 * area(1,2)  +  [0.667]  1 * area(1,2) * area(1,3)  +  [-0.667]  1 * 1 * 2 * area(1,3)  +  [0.667]  1 * 1 * 1 * area(2,3)  +  [-1.000]  1 * 3 * area(1,area(1,2))  +  [0.667]  1 * area(1,area(1,area(2,3)))  +  [-0.667]  1 * 1 * area(1,area(2,3))  +  [0.667]  1 * area(1,area(area(1,3),2))  +  [-0.667] area(1,area(1,area(1,area(2,3))))   \n",
      "\n",
      "h1: ((1,), ((1,), (2,)))  h2 x h3: (3,) x (2,)   poly:  [0.667] area(1,area(area(area(1,3),2),2))  +  [0.667]  1 * 2 * 3 * area(1,2)  +  [-0.333]  1 * 2 * area(1,area(2,3))  +  [-0.333]  1 * 1 * area(2,area(2,3))  +  [-0.333] area(1,area(1,area(2,area(2,3))))  +  [0.333]  area(1,2) * area(1,area(2,3))  +  [-0.333]  1 * area(1,2) * area(2,3)  +  [0.667]  1 * 1 * 2 * area(2,3)  +  [-0.667]  1 * 2 * area(area(1,3),2)  +  [-0.667]  1 * area(area(area(1,3),2),2)  +  [0.667]  area(1,2) * area(area(1,3),2)  +  [0.667]  2 * area(1,2) * area(1,3)  +  [0.333] area(1,area(area(1,area(2,3)),2))  +  [-1.000]  2 * 3 * area(1,area(1,2))  +  [0.333]  1 * area(1,area(2,area(2,3)))  +  [-0.667]  1 * 2 * 2 * area(1,3)  +  [-0.333]  1 * area(area(1,area(2,3)),2)   \n",
      "\n",
      "h1: ((1,), ((1,), (2,)))  h2 x h3: (3,) x (3,)   poly:  [-0.667]  1 * area(area(1,3),area(2,3))  +  [0.667]  1 * 3 * 3 * area(1,2)  +  [0.667] area(1,area(area(area(1,3),3),2))  +  [0.667]  3 * area(1,2) * area(1,3)  +  [-1.000]  3 * 3 * area(1,area(1,2))  +  [0.667]  1 * 1 * area(area(2,3),3)  +  [0.667]  area(1,2) * area(area(1,3),3)  +  [-0.667]  1 * 2 * 3 * area(1,3)  +  [0.667] area(1,area(1,area(area(2,3),3)))  +  [0.667]  1 * 1 * 3 * area(2,3)  +  [-0.667]  1 * area(1,area(area(2,3),3))  +  [0.667] area(1,area(area(1,3),area(2,3)))  +  [-0.667]  1 * area(area(area(1,3),3),2)  +  [-0.667]  1 * 2 * area(area(1,3),3)   \n",
      "\n",
      "h1: ((1,), ((1,), (2,)))  h2 x h3: (3,) x ((1,), (2,))   poly:  [0.333]  1 * area(area(area(1,2),2),area(1,3))  +  [-0.333]  1 * 1 * area(area(1,area(2,3)),2)  +  [0.500]  1 * area(area(1,2),area(area(1,3),2))  +  [-0.333] area(1,area(1,area(area(1,area(2,3)),2)))  +  [0.167] area(area(1,2),area(area(1,2),area(1,3)))  +  [-0.500] area(1,area(area(1,2),area(area(1,3),2)))  +  [0.333]  1 * area(1,area(1,area(2,area(2,3))))  +  [0.333] area(area(1,area(1,area(2,3))),area(1,2))  +  [0.667]  area(1,2) * area(1,2) * area(1,3)  +  [1.000]  1 * 3 * area(1,2) * area(1,2)  +  [-1.000]  1 * 2 * area(1,2) * area(1,3)  +  [-0.667]  1 * area(1,2) * area(1,area(2,3))  +  [0.500]  area(1,2) * area(1,area(area(1,3),2))  +  [-1.000]  3 * area(1,2) * area(1,area(1,2))  +  [-0.333]  1 * 1 * area(1,area(2,area(2,3)))  +  [-0.167]  area(1,2) * area(area(1,2),area(1,3))  +  [-0.333]  1 * 1 * 2 * area(1,area(2,3))  +  [-0.167] area(area(1,area(1,3)),area(area(1,2),2))  +  [-0.667] area(1,area(area(1,2),area(1,area(2,3))))  +  [-1.000]  1 * area(1,2) * area(area(1,3),2)  +  [0.333]  1 * area(1,3) * area(area(1,2),2)  +  [0.667]  1 * area(area(1,2),area(1,area(2,3)))  +  [1.333]  1 * 1 * area(1,2) * area(2,3)  +  [0.500] area(area(1,area(area(1,3),2)),area(1,2))  +  [-0.333] area(1,area(1,area(1,area(2,area(2,3)))))  +  [-0.333] area(1,area(area(area(1,2),2),area(1,3)))  +  [0.333]  1 * area(1,area(area(1,area(2,3)),2))  +  [0.333]  area(1,2) * area(1,area(1,area(2,3)))  +  [-0.167]  area(1,area(1,3)) * area(area(1,2),2)  +  [0.333]  1 * 1 * 1 * area(2,area(2,3))   \n",
      "\n",
      "h1: ((1,), ((1,), (2,)))  h2 x h3: (3,) x ((1,), (3,))   poly:  [-0.444]  1 * area(1,3) * area(1,area(2,3))  +  [0.222] area(area(1,area(1,3)),area(1,area(2,3)))  +  [0.222]  area(1,area(1,3)) * area(1,area(2,3))  +  [0.222]  1 * area(1,area(area(1,3),area(2,3)))  +  [0.667]  area(1,2) * area(1,3) * area(1,3)  +  [0.222] area(area(1,area(area(1,3),2)),area(1,3))  +  [-0.222]  1 * area(1,2) * area(area(1,3),3)  +  [-1.000]  3 * area(1,3) * area(1,area(1,2))  +  [-0.667]  1 * 2 * area(1,3) * area(1,3)  +  [-0.222] area(1,area(area(1,3),area(area(1,3),2)))  +  [0.222]  area(1,3) * area(1,area(area(1,3),2))  +  [0.222]  1 * area(area(1,3),area(area(1,3),2))  +  [-0.111] area(1,area(area(1,2),area(area(1,3),3)))  +  [-0.444]  1 * area(1,3) * area(area(1,3),2)  +  [0.111]  1 * area(area(1,2),area(area(1,3),3))  +  [-0.444]  1 * area(area(1,area(2,3)),area(1,3))  +  [0.667]  1 * 1 * area(1,3) * area(2,3)  +  [0.444] area(1,area(area(1,area(2,3)),area(1,3)))  +  [0.111] area(area(1,area(area(1,3),3)),area(1,2))  +  [0.111]  area(1,2) * area(1,area(area(1,3),3))  +  [-0.222] area(1,area(1,area(area(1,3),area(2,3))))  +  [-0.222]  1 * 1 * area(area(1,3),area(2,3))  +  [0.667]  1 * 3 * area(1,2) * area(1,3)   \n",
      "\n",
      "h1: ((1,), ((1,), (2,)))  h2 x h3: ((1,), (2,)) x (1,)   poly:  [-0.667] area(1,area(area(1,area(1,2)),area(1,2)))  +  [-0.333]  area(1,area(1,2)) * area(1,area(1,2))  +  [-0.333]  1 * area(1,2) * area(1,area(1,2))  +  [0.667]  1 * area(area(1,area(1,2)),area(1,2))   \n",
      "\n",
      "h1: ((1,), ((1,), (2,)))  h2 x h3: ((1,), (2,)) x (2,)   poly:  [0.333] area(area(1,area(area(1,2),2)),area(1,2))  +  [-1.000]  2 * area(1,2) * area(1,area(1,2))  +  [0.333]  1 * area(area(1,2),area(area(1,2),2))  +  [0.333]  area(1,2) * area(1,area(area(1,2),2))  +  [0.667]  area(1,2) * area(1,2) * area(1,2)  +  [-0.667]  1 * area(1,2) * area(area(1,2),2)  +  [-0.333] area(1,area(area(1,2),area(area(1,2),2)))   \n",
      "\n",
      "h1: ((1,), ((1,), (2,)))  h2 x h3: ((1,), (2,)) x (3,)   poly:  [0.333]  1 * area(area(area(1,2),2),area(1,3))  +  [-0.333]  1 * 1 * area(area(1,area(2,3)),2)  +  [0.500]  1 * area(area(1,2),area(area(1,3),2))  +  [-0.333] area(1,area(1,area(area(1,area(2,3)),2)))  +  [0.167] area(area(1,2),area(area(1,2),area(1,3)))  +  [-0.500] area(1,area(area(1,2),area(area(1,3),2)))  +  [0.333]  1 * area(1,area(1,area(2,area(2,3))))  +  [0.333] area(area(1,area(1,area(2,3))),area(1,2))  +  [0.667]  area(1,2) * area(1,2) * area(1,3)  +  [1.000]  1 * 3 * area(1,2) * area(1,2)  +  [-1.000]  1 * 2 * area(1,2) * area(1,3)  +  [-0.667]  1 * area(1,2) * area(1,area(2,3))  +  [0.500]  area(1,2) * area(1,area(area(1,3),2))  +  [-1.000]  3 * area(1,2) * area(1,area(1,2))  +  [-0.333]  1 * 1 * area(1,area(2,area(2,3)))  +  [-0.167]  area(1,2) * area(area(1,2),area(1,3))  +  [-0.333]  1 * 1 * 2 * area(1,area(2,3))  +  [-0.167] area(area(1,area(1,3)),area(area(1,2),2))  +  [-0.667] area(1,area(area(1,2),area(1,area(2,3))))  +  [-1.000]  1 * area(1,2) * area(area(1,3),2)  +  [0.333]  1 * area(1,3) * area(area(1,2),2)  +  [0.667]  1 * area(area(1,2),area(1,area(2,3)))  +  [1.333]  1 * 1 * area(1,2) * area(2,3)  +  [0.500] area(area(1,area(area(1,3),2)),area(1,2))  +  [-0.333] area(1,area(1,area(1,area(2,area(2,3)))))  +  [-0.333] area(1,area(area(area(1,2),2),area(1,3)))  +  [0.333]  1 * area(1,area(area(1,area(2,3)),2))  +  [0.333]  area(1,2) * area(1,area(1,area(2,3)))  +  [-0.167]  area(1,area(1,3)) * area(area(1,2),2)  +  [0.333]  1 * 1 * 1 * area(2,area(2,3))   \n",
      "\n"
     ]
    },
    {
     "ename": "AssertionError",
     "evalue": "",
     "output_type": "error",
     "traceback": [
      "\u001b[1;31m---------------------------------------------------------------------------\u001b[0m",
      "\u001b[1;31mAssertionError\u001b[0m                            Traceback (most recent call last)",
      "\u001b[1;32m<ipython-input-12-f63e6b4f3a20>\u001b[0m in \u001b[0;36m<module>\u001b[1;34m\u001b[0m\n\u001b[0;32m      7\u001b[0m             \u001b[0mA2xA3\u001b[0m \u001b[1;33m=\u001b[0m \u001b[0mshuffleProduct\u001b[0m\u001b[1;33m(\u001b[0m\u001b[0mA2\u001b[0m\u001b[1;33m,\u001b[0m\u001b[0mA3\u001b[0m\u001b[1;33m)\u001b[0m\u001b[1;33m\u001b[0m\u001b[1;33m\u001b[0m\u001b[0m\n\u001b[0;32m      8\u001b[0m             \u001b[0mB\u001b[0m \u001b[1;33m=\u001b[0m \u001b[0marea\u001b[0m\u001b[1;33m(\u001b[0m\u001b[0mA1\u001b[0m\u001b[1;33m,\u001b[0m \u001b[0mA2xA3\u001b[0m\u001b[1;33m)\u001b[0m\u001b[1;33m\u001b[0m\u001b[1;33m\u001b[0m\u001b[0m\n\u001b[1;32m----> 9\u001b[1;33m             \u001b[0mp\u001b[0m \u001b[1;33m=\u001b[0m \u001b[0mPolynomialRegression\u001b[0m\u001b[1;33m(\u001b[0m\u001b[0mB\u001b[0m\u001b[1;33m,\u001b[0m \u001b[0mmonomials\u001b[0m\u001b[1;33m,\u001b[0m \u001b[0msymbol\u001b[0m\u001b[1;33m,\u001b[0m \u001b[0mwidth\u001b[0m\u001b[1;33m,\u001b[0m \u001b[0mT\u001b[0m\u001b[1;33m)\u001b[0m\u001b[1;33m\u001b[0m\u001b[1;33m\u001b[0m\u001b[0m\n\u001b[0m\u001b[0;32m     10\u001b[0m             \u001b[0mprint\u001b[0m\u001b[1;33m(\u001b[0m\u001b[1;34mf'h1: {h1} '\u001b[0m\u001b[1;33m,\u001b[0m \u001b[1;34mf'h2 x h3: {h2} x {h3} '\u001b[0m\u001b[1;33m,\u001b[0m \u001b[1;34mf' poly:{p} \\n'\u001b[0m\u001b[1;33m)\u001b[0m\u001b[1;33m\u001b[0m\u001b[1;33m\u001b[0m\u001b[0m\n",
      "\u001b[1;32m~\\source\\repos\\crispitagorico\\Hall-areas\\operators.py\u001b[0m in \u001b[0;36mPolynomialRegression\u001b[1;34m(element, monomials, symbol, width, T)\u001b[0m\n\u001b[0;32m     21\u001b[0m \u001b[1;33m\u001b[0m\u001b[0m\n\u001b[0;32m     22\u001b[0m     \u001b[1;31m# Polynomial regression\u001b[0m\u001b[1;33m\u001b[0m\u001b[1;33m\u001b[0m\u001b[1;33m\u001b[0m\u001b[0m\n\u001b[1;32m---> 23\u001b[1;33m     \u001b[0mcoeffs\u001b[0m \u001b[1;33m=\u001b[0m \u001b[0mT\u001b[0m\u001b[1;33m.\u001b[0m\u001b[0minTermsOf\u001b[0m\u001b[1;33m(\u001b[0m\u001b[0melement\u001b[0m\u001b[1;33m,\u001b[0m \u001b[1;33m[\u001b[0m\u001b[0mj\u001b[0m \u001b[1;32mfor\u001b[0m \u001b[0mi\u001b[0m\u001b[1;33m,\u001b[0m\u001b[0mj\u001b[0m \u001b[1;32min\u001b[0m \u001b[0mmonomials\u001b[0m\u001b[1;33m]\u001b[0m\u001b[1;33m)\u001b[0m\u001b[1;33m\u001b[0m\u001b[1;33m\u001b[0m\u001b[0m\n\u001b[0m\u001b[0;32m     24\u001b[0m     \u001b[0mlabels\u001b[0m \u001b[1;33m=\u001b[0m \u001b[1;33m[\u001b[0m\u001b[0mk\u001b[0m\u001b[1;33m[\u001b[0m\u001b[1;36m0\u001b[0m\u001b[1;33m]\u001b[0m \u001b[1;32mfor\u001b[0m \u001b[0mk\u001b[0m \u001b[1;32min\u001b[0m \u001b[0mmonomials\u001b[0m\u001b[1;33m]\u001b[0m\u001b[1;33m\u001b[0m\u001b[1;33m\u001b[0m\u001b[0m\n\u001b[0;32m     25\u001b[0m \u001b[1;33m\u001b[0m\u001b[0m\n",
      "\u001b[1;32m~\\source\\repos\\crispitagorico\\Hall-areas\\free_lie_algebra.py\u001b[0m in \u001b[0;36minTermsOf\u001b[1;34m(self, x, l, allowFailure)\u001b[0m\n\u001b[0;32m   1617\u001b[0m             \u001b[1;32massert\u001b[0m \u001b[0misinstance\u001b[0m\u001b[1;33m(\u001b[0m\u001b[0mb\u001b[0m\u001b[1;33m,\u001b[0m\u001b[0mElt\u001b[0m\u001b[1;33m)\u001b[0m\u001b[1;33m,\u001b[0m \u001b[0mb\u001b[0m\u001b[1;33m\u001b[0m\u001b[1;33m\u001b[0m\u001b[0m\n\u001b[0;32m   1618\u001b[0m         \u001b[0msources\u001b[0m \u001b[1;33m=\u001b[0m \u001b[0mnp\u001b[0m\u001b[1;33m.\u001b[0m\u001b[0marray\u001b[0m\u001b[1;33m(\u001b[0m\u001b[1;33m[\u001b[0m\u001b[0mself\u001b[0m\u001b[1;33m.\u001b[0m\u001b[0mfromElt\u001b[0m\u001b[1;33m(\u001b[0m\u001b[0mb\u001b[0m\u001b[1;33m)\u001b[0m \u001b[1;32mfor\u001b[0m \u001b[0mb\u001b[0m \u001b[1;32min\u001b[0m \u001b[0ml\u001b[0m\u001b[1;33m]\u001b[0m\u001b[1;33m)\u001b[0m\u001b[1;33m\u001b[0m\u001b[1;33m\u001b[0m\u001b[0m\n\u001b[1;32m-> 1619\u001b[1;33m         \u001b[0mtargets\u001b[0m \u001b[1;33m=\u001b[0m \u001b[0mself\u001b[0m\u001b[1;33m.\u001b[0m\u001b[0mfromElt\u001b[0m\u001b[1;33m(\u001b[0m\u001b[0mx\u001b[0m\u001b[1;33m)\u001b[0m \u001b[1;32mif\u001b[0m \u001b[0msingle\u001b[0m \u001b[1;32melse\u001b[0m \u001b[0mnp\u001b[0m\u001b[1;33m.\u001b[0m\u001b[0mtranspose\u001b[0m\u001b[1;33m(\u001b[0m\u001b[1;33m[\u001b[0m\u001b[0mself\u001b[0m\u001b[1;33m.\u001b[0m\u001b[0mfromElt\u001b[0m\u001b[1;33m(\u001b[0m\u001b[0mi\u001b[0m\u001b[1;33m)\u001b[0m \u001b[1;32mfor\u001b[0m \u001b[0mi\u001b[0m \u001b[1;32min\u001b[0m \u001b[0mx\u001b[0m\u001b[1;33m]\u001b[0m\u001b[1;33m)\u001b[0m\u001b[1;33m\u001b[0m\u001b[1;33m\u001b[0m\u001b[0m\n\u001b[0m\u001b[0;32m   1620\u001b[0m         \u001b[0mv\u001b[0m\u001b[1;33m=\u001b[0m\u001b[0mscipy\u001b[0m\u001b[1;33m.\u001b[0m\u001b[0mlinalg\u001b[0m\u001b[1;33m.\u001b[0m\u001b[0mlstsq\u001b[0m\u001b[1;33m(\u001b[0m\u001b[0msources\u001b[0m\u001b[1;33m.\u001b[0m\u001b[0mT\u001b[0m\u001b[1;33m,\u001b[0m\u001b[0mtargets\u001b[0m\u001b[1;33m)\u001b[0m\u001b[1;33m\u001b[0m\u001b[1;33m\u001b[0m\u001b[0m\n\u001b[0;32m   1621\u001b[0m         \u001b[1;32mif\u001b[0m \u001b[1;32mnot\u001b[0m \u001b[0mallowFailure\u001b[0m\u001b[1;33m:\u001b[0m\u001b[1;33m\u001b[0m\u001b[1;33m\u001b[0m\u001b[0m\n",
      "\u001b[1;32m~\\source\\repos\\crispitagorico\\Hall-areas\\free_lie_algebra.py\u001b[0m in \u001b[0;36mfromElt\u001b[1;34m(self, a, checked, m, untyped)\u001b[0m\n\u001b[0;32m   1572\u001b[0m         \u001b[1;32mif\u001b[0m \u001b[0mchecked\u001b[0m\u001b[1;33m:\u001b[0m\u001b[1;33m\u001b[0m\u001b[1;33m\u001b[0m\u001b[0m\n\u001b[0;32m   1573\u001b[0m             \u001b[1;32mif\u001b[0m \u001b[0mm\u001b[0m \u001b[1;32mis\u001b[0m \u001b[1;32mNone\u001b[0m\u001b[1;33m:\u001b[0m\u001b[1;33m\u001b[0m\u001b[1;33m\u001b[0m\u001b[0m\n\u001b[1;32m-> 1574\u001b[1;33m                 \u001b[1;32massert\u001b[0m \u001b[0mlen\u001b[0m\u001b[1;33m(\u001b[0m\u001b[0ma\u001b[0m\u001b[1;33m.\u001b[0m\u001b[0mdata\u001b[0m\u001b[1;33m)\u001b[0m\u001b[1;33m<=\u001b[0m\u001b[0mself\u001b[0m\u001b[1;33m.\u001b[0m\u001b[0mm\u001b[0m\u001b[1;33m+\u001b[0m\u001b[1;36m1\u001b[0m\u001b[1;33m\u001b[0m\u001b[1;33m\u001b[0m\u001b[0m\n\u001b[0m\u001b[0;32m   1575\u001b[0m             \u001b[1;32massert\u001b[0m \u001b[0ma\u001b[0m\u001b[1;33m.\u001b[0m\u001b[0mmaxLetter\u001b[0m\u001b[1;33m(\u001b[0m\u001b[1;33m)\u001b[0m\u001b[1;33m<=\u001b[0m\u001b[0mself\u001b[0m\u001b[1;33m.\u001b[0m\u001b[0md\u001b[0m\u001b[1;33m\u001b[0m\u001b[1;33m\u001b[0m\u001b[0m\n\u001b[0;32m   1576\u001b[0m         \u001b[1;32mif\u001b[0m \u001b[0mm\u001b[0m \u001b[1;32mis\u001b[0m \u001b[1;32mnot\u001b[0m \u001b[1;32mNone\u001b[0m\u001b[1;33m:\u001b[0m\u001b[1;33m\u001b[0m\u001b[1;33m\u001b[0m\u001b[0m\n",
      "\u001b[1;31mAssertionError\u001b[0m: "
     ]
    }
   ],
   "source": [
    "M = 5\n",
    "N = 8\n",
    "for h1 in Hall_set[:N]:\n",
    "    for h2 in Hall_set[:M]:\n",
    "        for h3 in Hall_set[:M]:\n",
    "            A1, A2, A3 = areaFromTree(h1), areaFromTree(h2), areaFromTree(h3)\n",
    "            A2xA3 = shuffleProduct(A2,A3) \n",
    "            B = area(A1, A2xA3)\n",
    "            p = PolynomialRegression(B, monomials, symbol, width, T)\n",
    "            print(f'h1: {h1} ', f'h2 x h3: {h2} x {h3} ', f' poly:{p} \\n')"
   ]
  },
  {
   "cell_type": "markdown",
   "metadata": {},
   "source": [
    "# $area(c, A_h) = P_0 + c * P_1$, where $P_0,P_1$ are polynomials in Hall areas"
   ]
  },
  {
   "cell_type": "code",
   "execution_count": 21,
   "metadata": {
    "scrolled": false
   },
   "outputs": [
    {
     "name": "stdout",
     "output_type": "stream",
     "text": [
      "h: (1,)   poly:  [-1.000] area(area(area(1,3),3),3)   \n",
      "\n",
      "h: (2,)   poly:  [-1.000] area(area(area(2,3),3),3)   \n",
      "\n",
      "h: (3,)   poly: \n",
      "\n",
      "h: ((1,), (2,))   poly:  [-1.000] area(1,area(area(area(2,3),3),3))  +  [-1.000] area(area(area(1,3),3),area(2,3))  +  [1.000]  1 * area(area(area(2,3),3),3)  +  [1.000]  3 * area(area(1,3),area(2,3))  +  [-1.000]  2 * area(area(area(1,3),3),3)  +  [-1.000] area(area(area(area(1,3),3),3),2)  +  [1.000]  3 * area(1,area(area(2,3),3))  +  [1.000]  3 * area(area(area(1,3),3),2)  +  [-1.000] area(area(1,3),area(area(2,3),3))   \n",
      "\n",
      "h: ((1,), (3,))   poly:  [-1.000] area(area(area(area(1,3),3),3),3)   \n",
      "\n",
      "h: ((2,), (3,))   poly:  [-1.000] area(area(area(area(2,3),3),3),3)   \n",
      "\n",
      "h: ((1,), ((1,), (2,)))   poly:  [-1.000]  1 * 3 * area(1,area(area(2,3),3))  +  [-1.000] area(1,area(1,area(area(area(2,3),3),3)))  +  [1.000]  1 * area(area(1,3),area(area(2,3),3))  +  [1.000]  3 * area(1,area(area(area(1,3),3),2))  +  [1.000]  1 * 2 * area(area(area(1,3),3),3)  +  [-1.000]  1 * 3 * area(area(1,3),area(2,3))  +  [1.000]  1 * area(area(area(1,3),3),area(2,3))  +  [-1.000] area(1,area(area(area(1,3),3),area(2,3)))  +  [-1.000]  1 * 1 * area(area(area(2,3),3),3)  +  [-1.000] area(1,area(area(1,3),area(area(2,3),3)))  +  [1.000]  3 * area(1,area(1,area(area(2,3),3)))  +  [1.000]  3 * area(1,area(area(1,3),area(2,3)))  +  [-1.000]  1 * 3 * area(area(area(1,3),3),2)  +  [-1.000]  area(1,2) * area(area(area(1,3),3),3)  +  [1.000]  1 * area(area(area(area(1,3),3),3),2)  +  [1.000]  1 * area(1,area(area(area(2,3),3),3))  +  [-1.000] area(1,area(area(area(area(1,3),3),3),2))   \n",
      "\n",
      "h: ((1,), ((1,), (3,)))   poly:  [1.000]  1 * area(area(area(area(1,3),3),3),3)  +  [-1.000] area(1,area(area(area(area(1,3),3),3),3))  +  [-1.000]  area(1,3) * area(area(area(1,3),3),3)  +  [1.000]  3 * area(1,area(area(area(1,3),3),3))   \n",
      "\n",
      "h: (((1,), (2,)), (2,))   poly:  [1.000]  2 * 3 * area(area(area(1,3),3),2)  +  [-1.000]  2 * area(area(area(area(1,3),3),3),2)  +  [-1.000]  2 * area(1,area(area(area(2,3),3),3))  +  [1.000]  area(1,2) * area(area(area(2,3),3),3)  +  [1.000]  2 * 3 * area(area(1,3),area(2,3))  +  [-1.000]  2 * area(area(1,3),area(area(2,3),3))  +  [1.000]  2 * 3 * area(1,area(area(2,3),3))  +  [-1.000]  2 * area(area(area(1,3),3),area(2,3))  +  [-1.000] area(area(area(1,3),area(area(2,3),3)),2)  +  [1.000]  3 * area(area(1,area(area(2,3),3)),2)  +  [1.000]  1 * 2 * area(area(area(2,3),3),3)  +  [-1.000]  2 * 2 * area(area(area(1,3),3),3)  +  [-1.000] area(area(area(area(1,3),3),area(2,3)),2)  +  [-1.000] area(area(1,area(area(area(2,3),3),3)),2)  +  [-1.000] area(area(area(area(area(1,3),3),3),2),2)  +  [1.000]  3 * area(area(area(area(1,3),3),2),2)  +  [1.000]  3 * area(area(area(1,3),area(2,3)),2)   \n",
      "\n",
      "h: ((1,), ((2,), (3,)))   poly:  [-1.000] area(1,area(area(area(area(2,3),3),3),3))  +  [1.000]  3 * area(1,area(area(area(2,3),3),3))  +  [-1.000] area(area(1,3),area(area(area(2,3),3),3))  +  [-1.000] area(area(area(area(1,3),3),3),area(2,3))  +  [-1.000] area(area(area(1,3),3),area(area(2,3),3))  +  [1.000]  3 * area(area(1,3),area(area(2,3),3))  +  [1.000]  3 * area(area(area(1,3),3),area(2,3))  +  [1.000]  1 * area(area(area(area(2,3),3),3),3)  +  [-1.000]  area(2,3) * area(area(area(1,3),3),3)   \n",
      "\n"
     ]
    }
   ],
   "source": [
    "c = areaFromTree((3,))\n",
    "N = 10\n",
    "for h in Hall_set[:N]:\n",
    "    A = areaFromTree(h)\n",
    "    B = area(c, area(c, area(c, A)))\n",
    "    p = PolynomialRegression(B, monomials, symbol, width, T)\n",
    "    print(f'h: {h} ', f' poly:{p} \\n')"
   ]
  },
  {
   "cell_type": "markdown",
   "metadata": {},
   "source": [
    "# What is $\\Omega$?"
   ]
  },
  {
   "cell_type": "code",
   "execution_count": 30,
   "metadata": {},
   "outputs": [],
   "source": [
    "a, b, c = (1,), (2,), (3,)"
   ]
  },
  {
   "cell_type": "code",
   "execution_count": 31,
   "metadata": {},
   "outputs": [],
   "source": [
    "w1 = areaFromTree(ad_tree(a, c, 1))\n",
    "w2 = areaFromTree(ad_tree(a, b, 1))"
   ]
  },
  {
   "cell_type": "code",
   "execution_count": 35,
   "metadata": {},
   "outputs": [],
   "source": [
    "C = leftHalfShuffleProduct(w1,w2)"
   ]
  },
  {
   "cell_type": "code",
   "execution_count": 36,
   "metadata": {},
   "outputs": [
    {
     "data": {
      "text/plain": [
       "1123+1132-1213-1231+1312-1321-[2]3112+[2]3211"
      ]
     },
     "execution_count": 36,
     "metadata": {},
     "output_type": "execute_result"
    }
   ],
   "source": [
    "C"
   ]
  },
  {
   "cell_type": "code",
   "execution_count": 33,
   "metadata": {},
   "outputs": [],
   "source": [
    "P = PolynomialRegression(C, monomials, symbol, width, T)"
   ]
  },
  {
   "cell_type": "code",
   "execution_count": 34,
   "metadata": {},
   "outputs": [
    {
     "name": "stdout",
     "output_type": "stream",
     "text": [
      "  [-2.000] prec(1,prec(1,prec(2,3)))  +  [1.000] prec(1,prec(prec(1,3),2))  +  [2.000]  1 * prec(1,prec(2,3))  +  [4.000]  prec(1,2) * prec(1,3)  +  [1.000]  1 * 1 * 2 * 3  +  [-4.000] prec(prec(1,2),prec(1,3))  +  [-1.000]  1 * prec(prec(1,3),2)  +  [-1.000]  1 * 1 * prec(2,3)  +  [-2.000]  1 * 3 * prec(1,2)  \n"
     ]
    }
   ],
   "source": [
    "print(P)"
   ]
  },
  {
   "cell_type": "markdown",
   "metadata": {},
   "source": [
    "Let $I^a_n := \\prec((ac^n))$ and $A^a_n := area((ac^n))$. Then\n",
    "\n",
    "\\begin{align}\n",
    "    I^a_n = A^a_n + c*A^a_{n-1} + ... + c^{*n}*A^a_0\n",
    "\\end{align}\n",
    "\n",
    "\\begin{align}\n",
    "    I^a_n \\prec I^b_m &= \\sum_{k=0}^{m+n} \\Big(\\alpha_k area(A^a_{k},A^b_{m+n-k}) + \\beta_k  A^a_k*A^b_{m+n-k} \\Big)  + c* \\sum_{k=0}^{m+n-1} \\gamma_k A^a_k * A^b_{m+n-1-k} + c^{*2} * \\sum_{k=0}^{m+n-2} \\gamma_k A^a_k * A^b_{m+n-2-k} + ... + c^{*m+n-2}*A^a_0*A^b_0\n",
    "\\end{align}"
   ]
  },
  {
   "cell_type": "code",
   "execution_count": 55,
   "metadata": {},
   "outputs": [
    {
     "name": "stdout",
     "output_type": "stream",
     "text": [
      "  [1.000] area(area(area(1,3),2),1)  +  [-1.000] area(area(area(2,3),1),1)  +  [-1.000] area(area(1,2),area(1,3))  \n"
     ]
    }
   ],
   "source": [
    "t = ((1,), (2,))\n",
    "t = (t,(3,))\n",
    "t = (t,(1,))\n",
    "A = areaFromTree(t)\n",
    "P = PolynomialRegression(A, monomials, symbol, width, T)\n",
    "print(P)"
   ]
  },
  {
   "cell_type": "code",
   "execution_count": 66,
   "metadata": {
    "scrolled": false
   },
   "outputs": [
    {
     "name": "stdout",
     "output_type": "stream",
     "text": [
      "((((1,), (2,)), (1,)), (1,))\n",
      "  [0.083]  1 * area(area(1,2),1)  +  [0.250]  1 * 1 * 1 * 2  +  [0.083]  1 * 1 * area(1,2)  +  [0.083] area(area(area(1,2),1),1)  \n",
      "\n",
      "((((1,), (2,)), (2,)), (1,))\n",
      "  [0.167]  1 * 2 * area(1,2)  +  [-0.083]  area(1,2) * area(1,2)  +  [0.167] area(area(area(1,2),2),1)  +  [0.250]  1 * 1 * 2 * 2  +  [0.167]  1 * area(area(1,2),2)  \n",
      "\n",
      "((((1,), (2,)), (2,)), (2,))\n",
      "  [0.250]  1 * 2 * 2 * 2  +  [0.250] area(area(area(1,2),2),2)  +  [0.250]  2 * area(area(1,2),2)  +  [0.250]  2 * 2 * area(1,2)  \n",
      "\n",
      "((((1,), (3,)), (1,)), (1,))\n",
      "  [0.083] area(area(area(1,3),1),1)  +  [0.250]  1 * 1 * 1 * 3  +  [0.083]  1 * area(area(1,3),1)  +  [0.083]  1 * 1 * area(1,3)  \n",
      "\n",
      "((((1,), (3,)), (2,)), (1,))\n",
      "  [0.167]  1 * 2 * area(1,3)  +  [0.167] area(area(area(1,3),2),1)  +  [0.167]  1 * area(area(1,3),2)  +  [-0.083]  area(1,2) * area(1,3)  +  [0.250]  1 * 1 * 2 * 3  +  [-0.083]  1 * area(area(2,3),1)  +  [-0.083] area(area(area(2,3),1),1)  +  [-0.083]  1 * 1 * area(2,3)  +  [-0.083] area(area(1,2),area(1,3))  \n",
      "\n",
      "((((1,), (3,)), (2,)), (2,))\n",
      "  [-0.167] area(area(area(2,3),2),1)  +  [0.083] area(area(1,2),area(2,3))  +  [0.250]  2 * 2 * area(1,3)  +  [0.083]  area(1,2) * area(2,3)  +  [0.250]  1 * 2 * 2 * 3  +  [-0.167]  1 * area(area(2,3),2)  +  [0.250]  2 * area(area(1,3),2)  +  [-0.167]  1 * 2 * area(2,3)  +  [0.250] area(area(area(1,3),2),2)  \n",
      "\n",
      "((((1,), (3,)), (3,)), (1,))\n",
      "  [-0.083]  area(1,3) * area(1,3)  +  [0.167] area(area(area(1,3),3),1)  +  [0.167]  1 * area(area(1,3),3)  +  [0.250]  1 * 1 * 3 * 3  +  [0.167]  1 * 3 * area(1,3)  \n",
      "\n",
      "((((1,), (3,)), (3,)), (2,))\n",
      "  [0.250]  1 * 2 * 3 * 3  +  [-0.083]  area(1,3) * area(2,3)  +  [0.250] area(area(area(1,3),3),2)  +  [0.167] area(area(1,3),area(2,3))  +  [-0.083] area(area(area(2,3),3),1)  +  [-0.083]  1 * 3 * area(2,3)  +  [-0.083]  1 * area(area(2,3),3)  +  [0.250]  2 * 3 * area(1,3)  +  [0.250]  2 * area(area(1,3),3)  \n",
      "\n",
      "((((1,), (3,)), (3,)), (3,))\n",
      "  [0.250]  1 * 3 * 3 * 3  +  [0.250] area(area(area(1,3),3),3)  +  [0.250]  3 * 3 * area(1,3)  +  [0.250]  3 * area(area(1,3),3)  \n",
      "\n",
      "((((2,), (3,)), (1,)), (1,))\n",
      "  [-0.167]  1 * 2 * area(1,3)  +  [-0.167] area(area(area(1,3),2),1)  +  [-0.167]  1 * area(area(1,3),2)  +  [0.083]  area(1,2) * area(1,3)  +  [0.250]  1 * 1 * 2 * 3  +  [0.250]  1 * area(area(2,3),1)  +  [0.250] area(area(area(2,3),1),1)  +  [0.250]  1 * 1 * area(2,3)  +  [0.083] area(area(1,2),area(1,3))  \n",
      "\n",
      "((((2,), (3,)), (2,)), (1,))\n",
      "  [0.167] area(area(area(2,3),2),1)  +  [-0.083] area(area(1,2),area(2,3))  +  [-0.083]  2 * 2 * area(1,3)  +  [-0.083]  area(1,2) * area(2,3)  +  [0.250]  1 * 2 * 2 * 3  +  [0.167]  1 * area(area(2,3),2)  +  [-0.083]  2 * area(area(1,3),2)  +  [0.167]  1 * 2 * area(2,3)  +  [-0.083] area(area(area(1,3),2),2)  \n",
      "\n",
      "((((2,), (3,)), (2,)), (2,))\n",
      "  [0.083]  2 * 2 * area(2,3)  +  [0.083]  2 * area(area(2,3),2)  +  [0.250]  2 * 2 * 2 * 3  +  [0.083] area(area(area(2,3),2),2)  \n",
      "\n",
      "((((2,), (3,)), (3,)), (1,))\n",
      "  [0.250]  1 * 2 * 3 * 3  +  [-0.083]  area(1,3) * area(2,3)  +  [-0.083] area(area(area(1,3),3),2)  +  [-0.167] area(area(1,3),area(2,3))  +  [0.250] area(area(area(2,3),3),1)  +  [0.250]  1 * 3 * area(2,3)  +  [0.250]  1 * area(area(2,3),3)  +  [-0.083]  2 * 3 * area(1,3)  +  [-0.083]  2 * area(area(1,3),3)  \n",
      "\n",
      "((((2,), (3,)), (3,)), (2,))\n",
      "  [0.250]  2 * 2 * 3 * 3  +  [-0.083]  area(2,3) * area(2,3)  +  [0.167] area(area(area(2,3),3),2)  +  [0.167]  2 * area(area(2,3),3)  +  [0.167]  2 * 3 * area(2,3)  \n",
      "\n",
      "((((2,), (3,)), (3,)), (3,))\n",
      "  [0.250]  2 * 3 * 3 * 3  +  [0.250]  3 * 3 * area(2,3)  +  [0.250] area(area(area(2,3),3),3)  +  [0.250]  3 * area(area(2,3),3)  \n",
      "\n",
      "(((1,), (2,)), ((1,), (3,)))\n",
      "  [0.250]  1 * 2 * area(1,3)  +  [0.125]  area(1,2) * area(1,3)  +  [0.125]  1 * 1 * 2 * 3  +  [-0.042]  1 * area(area(2,3),1)  +  [-0.042] area(area(area(2,3),1),1)  +  [-0.042]  1 * 1 * area(2,3)  +  [0.125] area(area(1,2),area(1,3))  \n",
      "\n",
      "(((1,), (2,)), ((2,), (3,)))\n",
      "  [-0.167] area(area(area(2,3),2),1)  +  [0.208] area(area(1,2),area(2,3))  +  [0.125]  2 * 2 * area(1,3)  +  [0.208]  area(1,2) * area(2,3)  +  [0.125]  1 * 2 * 2 * 3  +  [-0.167]  1 * area(area(2,3),2)  +  [0.125]  2 * area(area(1,3),2)  +  [0.083]  1 * 2 * area(2,3)  +  [0.125] area(area(area(1,3),2),2)  \n",
      "\n",
      "(((1,), (3,)), ((2,), (3,)))\n",
      "  [0.125]  1 * 2 * 3 * 3  +  [0.125]  area(1,3) * area(2,3)  +  [0.125] area(area(area(1,3),3),2)  +  [0.250] area(area(1,3),area(2,3))  +  [-0.125] area(area(area(2,3),3),1)  +  [0.125]  1 * 3 * area(2,3)  +  [-0.125]  1 * area(area(2,3),3)  +  [0.125]  2 * 3 * area(1,3)  +  [0.125]  2 * area(area(1,3),3)  \n",
      "\n"
     ]
    }
   ],
   "source": [
    "for h in Hall_set[14:32]:\n",
    "    prec_h = hsFromTree(h)\n",
    "    P = PolynomialRegression(prec_h, monomials, symbol, width, T)\n",
    "    print(h)\n",
    "    print(P)\n",
    "    print()"
   ]
  },
  {
   "cell_type": "markdown",
   "metadata": {},
   "source": [
    "# Area-Jacobi identity"
   ]
  },
  {
   "cell_type": "code",
   "execution_count": 34,
   "metadata": {},
   "outputs": [],
   "source": [
    "r1=randomElt(2,2)\n",
    "r2=randomElt(2,2)\n",
    "r3=randomElt(2,2)\n",
    "r4=randomElt(2,2)"
   ]
  },
  {
   "cell_type": "code",
   "execution_count": 5,
   "metadata": {},
   "outputs": [
    {
     "data": {
      "text/plain": [
       "True"
      ]
     },
     "execution_count": 5,
     "metadata": {},
     "output_type": "execute_result"
    }
   ],
   "source": [
    "distance(area(area(r1,r2),r3) + area(area(r2,r3),r1) + area(area(r3,r1),r2),\n",
    "         -(shuffleProduct(r1,area(r2,r3)) + shuffleProduct(r2,area(r3,r1)) + shuffleProduct(r3,area(r1,r2)))) < 1e-10"
   ]
  },
  {
   "cell_type": "markdown",
   "metadata": {},
   "source": [
    "# Shuffle-pullout formula"
   ]
  },
  {
   "cell_type": "code",
   "execution_count": 4,
   "metadata": {},
   "outputs": [],
   "source": [
    "# def shuffle_pullout(a,b,c):\n",
    "#     return (1./3.)*(shuffleProduct(a,area(b,c)) + shuffleProduct(b,area(a,c)) - shuffleProductMany([a,b,c]) + area(a,area(b,c)) + area(b,area(a,c)))"
   ]
  },
  {
   "cell_type": "code",
   "execution_count": 5,
   "metadata": {},
   "outputs": [],
   "source": [
    "# A = area(shuffleProduct(r1, r3), r2) \n",
    "# B = shuffle_pullout(r1,r3,r2)"
   ]
  },
  {
   "cell_type": "code",
   "execution_count": 6,
   "metadata": {},
   "outputs": [],
   "source": [
    "# distance(A,B) + list(B.data[0].values())[0]"
   ]
  },
  {
   "cell_type": "code",
   "execution_count": 7,
   "metadata": {},
   "outputs": [],
   "source": [
    "# def shuffle_pullout2(a,b,c,d):\n",
    "#     k = .5*shuffleProduct(c,area(shuffleProduct(a,b),d)) + .5*shuffleProduct(shuffleProduct(a,b),area(c,d)) \n",
    "#     return  .25*shuffleProduct(d,area(shuffleProduct(a,b),c)) - .25*shuffleProductMany([a,b,c,d])"
   ]
  },
  {
   "cell_type": "code",
   "execution_count": 8,
   "metadata": {},
   "outputs": [],
   "source": [
    "# A = area(shuffleProductMany([r1,r2,r3]), r4)"
   ]
  },
  {
   "cell_type": "code",
   "execution_count": 9,
   "metadata": {},
   "outputs": [],
   "source": [
    "# B = shuffle_pullout2(r1,r2,r3,r4)"
   ]
  },
  {
   "cell_type": "code",
   "execution_count": 3,
   "metadata": {},
   "outputs": [],
   "source": [
    "# distance(A,B)"
   ]
  },
  {
   "cell_type": "markdown",
   "metadata": {},
   "source": [
    "# 1) Equivalence class\n",
    "\n",
    "Let $h$ be a Lyndon word and $h=h1h2$ be its standard factorization into Lyndon sub-words (parents, as Hall element).  We know that $dot(h1, h2)$ is a linear combination of words of the same length as $h$. Consider the set $A_h$ of words that are among the terms of this linear combination. If $w \\in A_h$ is NOT Lyndon, then it can be written as a product of decreasing Lyndon words of shorter length than h (Reutenauer: Lyndon words shuffle generate the shuffle algebra). Consider the subset $L_h \\subset A_h$ consisting of words in $A_h$ that are Lyndon, i.e. $L_h = \\{w \\in A_h : w \\text{ is Lyndon}\\}$. Obviously $h \\in L_h$. Now consider the following relation: Let $s$ be a Lyndon word, then $s \\sim h \\text{ iff } s \\in L_h$. We would like to prove that $\\sim$ is an equivalence relation. "
   ]
  },
  {
   "cell_type": "code",
   "execution_count": 14,
   "metadata": {
    "scrolled": false
   },
   "outputs": [],
   "source": [
    "def triangular(width, depth, order='Lyndon'):\n",
    "\n",
    "    # define Hall basis\n",
    "    if order=='Lyndon':\n",
    "        H = HallBasis(width, depth, lessExpression=lessExpressionLyndon)\n",
    "    elif order=='Nyldon':\n",
    "        H = HallBasis(width, depth, lessExpression=lessExpressionNyldon)\n",
    "    else:\n",
    "        H = HallBasis(width, depth, lessExpression=lessExpressionStandardHall)\n",
    "\n",
    "    # make a list of all Hall words in \"width\" letters and of max length = \"depth\"\n",
    "    hall_words = []\n",
    "    for lev in H.data: \n",
    "        for t in lev: \n",
    "            hall_words.append(foliageFromTree(t))\n",
    "\n",
    "    # sort Lyndon words\n",
    "#     hall_words.sort(key=lambda item: (len(item), item))\n",
    "\n",
    "    # look-up dictionaries\n",
    "    half_shuffle_words_dict = {h:{k:np.nan for k in hall_words} for h in hall_words}\n",
    "    half_shuffle_dots_dict = {h:{k:np.nan for k in hall_words} for h in hall_words}\n",
    "    dot_words_dict = {h:{k:np.nan for k in hall_words} for h in hall_words}\n",
    "    dot_dots_dict = {h:{k:np.nan for k in hall_words} for h in hall_words}\n",
    "    \n",
    "    # populate dictionaries\n",
    "    for lev in H.data: # loop through levels\n",
    "        for t in lev: # loop through Hall words in level\n",
    "\n",
    "            # reference Hall word\n",
    "            h = foliageFromTree(t)\n",
    "            \n",
    "            # easy case of letters\n",
    "            if len(t)<2:\n",
    "                half_shuffle_words_dict[h][h] = 1\n",
    "                half_shuffle_dots_dict[h][h] = 1\n",
    "                dot_words_dict[h][h] = 1\n",
    "                dot_dots_dict[h][h] = 1\n",
    "                    \n",
    "                \n",
    "            else:\n",
    "                \n",
    "                # the 2 Hall sub-words\n",
    "                (h1, h2) = [foliageFromTree(q) for q in t]\n",
    "                \n",
    "                # dots of the 2 Hall sub-words\n",
    "                (h1_dot, h2_dot) = [areaFromTree(q) for q in t]\n",
    "                \n",
    "                # half-shuffle of the the 2 sub-words\n",
    "                half_shuffle_words = rightHalfShuffleProduct(parse(h1), parse(h2))\n",
    "                \n",
    "                # half-shuffle of the dots of the 2 sub-words\n",
    "                half_shuffle_dots = rightHalfShuffleProduct(h1_dot, h2_dot)\n",
    "                \n",
    "                # dot of the 2 sub-words\n",
    "                dot_words = area(parse(h1), parse(h2))\n",
    "                \n",
    "                # dot of dots of the 2 subwords\n",
    "                assert area(h1_dot, h2_dot) == areaFromTree(t)\n",
    "                dot_dots = areaFromTree(t)\n",
    "                \n",
    "                # populate dictionaries\n",
    "                for l in half_shuffle_words.data:\n",
    "                    for k, v in l.items():\n",
    "                        if str(k) in hall_words:\n",
    "                            half_shuffle_words_dict[h][str(k)] = v \n",
    "                for l in half_shuffle_dots.data:\n",
    "                    for k, v in l.items():\n",
    "                        if str(k) in hall_words:\n",
    "                            half_shuffle_dots_dict[h][str(k)] = v \n",
    "                for l in dot_words.data:\n",
    "                    for k, v in l.items():\n",
    "                        if str(k) in hall_words:\n",
    "                            dot_words_dict[h][str(k)] = v \n",
    "                for l in dot_dots.data:\n",
    "                    for k, v in l.items():\n",
    "                        if str(k) in hall_words:\n",
    "                            dot_dots_dict[h][str(k)] = v \n",
    "      \n",
    "    return half_shuffle_words_dict, half_shuffle_dots_dict, dot_words_dict, dot_dots_dict"
   ]
  },
  {
   "cell_type": "code",
   "execution_count": 15,
   "metadata": {},
   "outputs": [],
   "source": [
    "def dic2SparseMatrix(dic):\n",
    "#     hall_words = list(dic.keys())\n",
    "#     df = pd.DataFrame.from_dict(dic, orient='index')[hall_words].T\n",
    "#     df = df[list(df.index)].T\n",
    "#     return sp.csr_matrix(df.values)\n",
    "    df = pd.DataFrame.from_dict(dic, orient='index').T\n",
    "    return df.sort_values(by=list(df.columns), axis='index')"
   ]
  },
  {
   "cell_type": "markdown",
   "metadata": {},
   "source": [
    "### Lyndon basis"
   ]
  },
  {
   "cell_type": "code",
   "execution_count": 604,
   "metadata": {},
   "outputs": [],
   "source": [
    "order = 'Lyndon'\n",
    "hall_dictionaries = triangular(width=4, depth=4, order=order)"
   ]
  },
  {
   "cell_type": "code",
   "execution_count": 605,
   "metadata": {},
   "outputs": [
    {
     "name": "stderr",
     "output_type": "stream",
     "text": [
      "C:\\Program Files (x86)\\Microsoft Visual Studio\\Shared\\Anaconda3_64\\lib\\site-packages\\matplotlib\\axes\\_axes.py:7669: RuntimeWarning: invalid value encountered in greater\n",
      "  nonzero = np.abs(Z) > precision\n"
     ]
    },
    {
     "data": {
      "image/png": "[encoded data removed]",
      "text/plain": [
       "<Figure size 1080x864 with 4 Axes>"
      ]
     },
     "metadata": {},
     "output_type": "display_data"
    }
   ],
   "source": [
    "titles = ['Half-Shuffle(h1, h2)', 'Half-Shuffle(dot(t1), dot(t2))', 'Dot(h1, h2)', 'Dot(dot(t1), dot(t2))']\n",
    "fig, ax = plt.subplots(2, 2, figsize=(15, 12))\n",
    "for item, axis, t in zip(hall_dictionaries, ax.flat, titles):\n",
    "    axis.spy(dic2SparseMatrix(item), markersize=3, color='b', aspect='auto')\n",
    "    axis.set_xlabel('Hall words in the expansion', fontsize=12)\n",
    "    axis.set_ylabel('Hall words', fontsize=12)\n",
    "    axis.set_title(t, pad=20)\n",
    "plt.suptitle(f'search for Triangular property \"a la Reutenauer\" for the {order} case', fontsize=12)\n",
    "plt.subplots_adjust(hspace=0.3)\n",
    "plt.show()"
   ]
  },
  {
   "cell_type": "markdown",
   "metadata": {},
   "source": [
    "### Nyldon"
   ]
  },
  {
   "cell_type": "code",
   "execution_count": 508,
   "metadata": {},
   "outputs": [],
   "source": [
    "order = 'Nyldon'\n",
    "hall_dictionaries = triangular(width=5, depth=5, order=order)"
   ]
  },
  {
   "cell_type": "code",
   "execution_count": 509,
   "metadata": {},
   "outputs": [
    {
     "data": {
      "image/png": "[encoded data removed]",
      "text/plain": [
       "<Figure size 1080x864 with 4 Axes>"
      ]
     },
     "metadata": {},
     "output_type": "display_data"
    }
   ],
   "source": [
    "titles = ['Half-Shuffle(h1, h2)', 'Half-Shuffle(dot(t1), dot(t2))', 'Dot(h1, h2)', 'Dot(dot(t1), dot(t2))']\n",
    "fig, ax = plt.subplots(2, 2, figsize=(15, 12))\n",
    "for item, axis, t in zip(hall_dictionaries, ax.flat, titles):\n",
    "    axis.spy(dic2SparseMatrix(item), markersize=3, color='b', aspect='auto')\n",
    "    axis.set_xlabel('Hall words in the expansion', fontsize=12)\n",
    "    axis.set_ylabel('Hall words', fontsize=12)\n",
    "    axis.set_title(t, pad=20)\n",
    "plt.suptitle(f'search for Triangular property \"a la Reutenauer\" for the {order} case', fontsize=12)\n",
    "plt.subplots_adjust(hspace=0.3)\n",
    "plt.show()"
   ]
  },
  {
   "cell_type": "markdown",
   "metadata": {},
   "source": [
    "#### Let's check the dot matrix is upper diagonal"
   ]
  },
  {
   "cell_type": "code",
   "execution_count": 487,
   "metadata": {},
   "outputs": [],
   "source": [
    "# for width in range(2, 7):\n",
    "#     for depth in range(2, 7):\n",
    "#         _, df_dot = triangular(width=width, depth=depth, order='Nyldon')\n",
    "#         mat = df_dot.fillna(0.).values\n",
    "#         boolean = np.allclose(mat, np.triu(mat))\n",
    "#         if boolean:\n",
    "#             string = ''\n",
    "#         else:\n",
    "#             string = ' NOT'\n",
    "            \n",
    "#         print(f'for width {width} and depth {depth} df_dot is {string} upper diagonal')"
   ]
  },
  {
   "cell_type": "code",
   "execution_count": 222,
   "metadata": {},
   "outputs": [],
   "source": [
    "# collect indeces where the matrix is not diagonal\n",
    "\n",
    "# bool_mat = mat != np.triu(mat)\n",
    "# index = []\n",
    "# for c, col in enumerate(bool_mat):\n",
    "#     for r, row in enumerate(col):\n",
    "#         if row != False:\n",
    "#             index.append((c,r))"
   ]
  },
  {
   "cell_type": "markdown",
   "metadata": {},
   "source": [
    "### CoRoPa basis"
   ]
  },
  {
   "cell_type": "code",
   "execution_count": 512,
   "metadata": {},
   "outputs": [],
   "source": [
    "order = 'CoRoPa'\n",
    "hall_dictionaries = triangular(width=5, depth=4, order=order)"
   ]
  },
  {
   "cell_type": "code",
   "execution_count": 513,
   "metadata": {},
   "outputs": [
    {
     "data": {
      "image/png": "[encoded data removed]",
      "text/plain": [
       "<Figure size 1080x864 with 4 Axes>"
      ]
     },
     "metadata": {},
     "output_type": "display_data"
    }
   ],
   "source": [
    "titles = ['Half-Shuffle(h1, h2)', 'Half-Shuffle(dot(t1), dot(t2))', 'Dot(h1, h2)', 'Dot(dot(t1), dot(t2))']\n",
    "fig, ax = plt.subplots(2, 2, figsize=(15, 12))\n",
    "for item, axis, t in zip(hall_dictionaries, ax.flat, titles):\n",
    "    axis.spy(dic2SparseMatrix(item), markersize=3, color='b', aspect='auto')\n",
    "    axis.set_xlabel('Hall words in the expansion', fontsize=12)\n",
    "    axis.set_ylabel('Hall words', fontsize=12)\n",
    "    axis.set_title(t, pad=20)\n",
    "plt.suptitle(f'search for Triangular property \"a la Reutenauer\" for the {order} case', fontsize=12)\n",
    "plt.subplots_adjust(hspace=0.3)\n",
    "plt.show()"
   ]
  },
  {
   "cell_type": "markdown",
   "metadata": {},
   "source": [
    "### Let $t \\in H$ be a Hall tree. Then $\\pi_1^T(dot(t))$ is a shuffle-polynomial of $dot$ of Hall trees"
   ]
  },
  {
   "cell_type": "code",
   "execution_count": 11,
   "metadata": {
    "scrolled": false
   },
   "outputs": [
    {
     "name": "stdout",
     "output_type": "stream",
     "text": [
      "1 2\n",
      "E[{}, {}, {12: 1}]\n",
      "E[{}, {}, {12: 1.0}]\n",
      "\n",
      "1 12\n",
      "E[{}, {}, {}, {112: 1}]\n",
      "E[{}, {}, {}, {112: 1.0}]\n",
      "\n",
      "12 2\n",
      "E[{}, {}, {}, {122: 1.0}]\n",
      "E[{}, {}, {}, {122: 1.0}]\n",
      "\n",
      "1 112\n",
      "E[{}, {}, {}, {}, {1112: 1}]\n",
      "E[{}, {}, {}, {}, {1112: 0.5}]\n",
      "\n",
      "1 122\n",
      "E[{}, {}, {}, {}, {1122: 1.0}]\n",
      "E[{}, {}, {}, {}, {1122: 2.0, 1212: 1.0}]\n",
      "\n",
      "122 2\n",
      "E[{}, {}, {}, {}, {1222: 1.0}]\n",
      "E[{}, {}, {}, {}, {1222: 1.0}]\n",
      "\n",
      "1 1112\n",
      "E[{}, {}, {}, {}, {}, {11112: 1}]\n",
      "E[{}, {}, {}, {}, {}, {11112: 0.16666666666666666}]\n",
      "\n",
      "1 1122\n",
      "E[{}, {}, {}, {}, {}, {11122: 1.0}]\n",
      "E[{}, {}, {}, {}, {}, {11122: 1.5, 11212: 0.5}]\n",
      "\n",
      "1 1222\n",
      "E[{}, {}, {}, {}, {}, {11222: 1.0}]\n",
      "E[{}, {}, {}, {}, {}, {11222: 2.0, 12122: 1.0, 12212: 1.0}]\n",
      "\n",
      "12 122\n",
      "E[{}, {}, {}, {}, {}, {12122: 1.0, 11222: 3.0}]\n",
      "E[{}, {}, {}, {}, {}, {12122: 1.0, 11222: 2.0}]\n",
      "\n",
      "112 12\n",
      "E[{}, {}, {}, {}, {}, {11212: 1.0, 11122: 2.0}]\n",
      "E[{}, {}, {}, {}, {}, {11212: 1.0, 11122: 3.0}]\n",
      "\n",
      "1222 2\n",
      "E[{}, {}, {}, {}, {}, {12222: 1.0}]\n",
      "E[{}, {}, {}, {}, {}, {12222: 1.0}]\n",
      "\n"
     ]
    }
   ],
   "source": [
    "width = 2\n",
    "depth = 5\n",
    "\n",
    "Hall_order = lessExpressionLyndon\n",
    "\n",
    "H = HallBasis(width, depth, lessExpression=Hall_order)\n",
    "\n",
    "# T = TensorSpaceBasis(S, H)\n",
    "\n",
    "dic = {}\n",
    "orders = []\n",
    "\n",
    "for lev in H.data: \n",
    "    for t in lev:\n",
    "        \n",
    "        if len(t)>1:\n",
    "            \n",
    "            h = foliageFromTree(t)\n",
    "            h1 = foliageFromTree(t[0])\n",
    "            h2 = foliageFromTree(t[1])\n",
    "            \n",
    "            S_h = S(h, H)\n",
    "            \n",
    "            S_h_final = normalization_constant(t)*rightHalfShuffleProduct(S(h1, H), S(h2, H))\n",
    "            \n",
    "#             S_h_final = area(S(h1, H), S(h2, H)) + shuffleProduct(S(h1, H), S(h2, H))\n",
    "\n",
    "#             S_h_final = half_shuffle_from_tree(t)\n",
    "            \n",
    "            \n",
    "            print(h1, h2)\n",
    "            print(S_h) \n",
    "            print(S_h_final)            \n",
    "            print()\n",
    "        \n",
    "        \n",
    "        \n",
    "        \n",
    "        \n",
    "#         # g_{half-shuffle}(tree)\n",
    "#         half_shuffle_tree = half_shuffle_from_tree(t)\n",
    "        \n",
    "#         # dot(tree)\n",
    "#         dot_tree = areaFromTree(t)\n",
    "        \n",
    "#         # pi_1^T(g_{half-shuffle}(tree))\n",
    "#         proj_half_shuffle = pi1adjoint(half_shuffle_tree)\n",
    "        \n",
    "#         # pi_1^T(dot(tree))\n",
    "#         proj_dot = pi1adjoint(dot_tree)\n",
    "        \n",
    "#         label_tree = labelTuple2String(t)\n",
    "#         orders.append(label_tree)\n",
    "        \n",
    "#         print(f'pi_1^T(half-shuffle({t})) =', proj_half_shuffle) \n",
    "#         print('S_h =', S(foliageFromTree(t), H))\n",
    "#         print()\n",
    "        \n",
    "#         label = f'pi_1^T({label_tree})'\n",
    "#         h_decomp = PolyRegAreasHallTrees(label, proj_dot, width, depth, Hall_order, print_flag=True)\n",
    "#         dic[label] = h_decomp"
   ]
  },
  {
   "cell_type": "code",
   "execution_count": 10,
   "metadata": {},
   "outputs": [
    {
     "data": {
      "image/png": "[encoded data removed]",
      "text/plain": [
       "<Figure size 864x864 with 2 Axes>"
      ]
     },
     "metadata": {},
     "output_type": "display_data"
    }
   ],
   "source": [
    "df = pd.DataFrame.from_dict(dic).T[orders]\n",
    "plt.figure(figsize=(12,12))\n",
    "seaborn.heatmap(df, cbar=True, annot=True, cmap=\"plasma\")\n",
    "plt.show()"
   ]
  },
  {
   "cell_type": "markdown",
   "metadata": {},
   "source": [
    "### Every Lyndon word can be re-written as shuffle-polynomial in dots of Lyndon trees"
   ]
  },
  {
   "cell_type": "code",
   "execution_count": 108,
   "metadata": {},
   "outputs": [
    {
     "data": {
      "application/vnd.jupyter.widget-view+json": {
       "model_id": "e6b162df811e4d92b75316598bb5b069",
       "version_major": 2,
       "version_minor": 0
      },
      "text/plain": [
       "HBox(children=(IntProgress(value=0, max=60), HTML(value='')))"
      ]
     },
     "metadata": {},
     "output_type": "display_data"
    },
    {
     "name": "stdout",
     "output_type": "stream",
     "text": [
      "\n",
      "[120] 1232 =   [5.000]  1 * 2 * 2 * 3  +  [20.000]  1 * 2 * dot(2,3)  +  [-25.000] dot(1,dot(2,dot(2,3)))  +  [5.000] dot(dot(dot(1,3),2),2)  +  [15.000]  2 * dot(dot(1,3),2)  +  [30.000]  2 * 3 * dot(1,2)  +  [-25.000]  1 * dot(2,dot(2,3))  +  [45.000]  2 * dot(1,dot(2,3))  +  [-5.000] dot(dot(1,dot(2,3)),2)  +  [-15.000]  2 * 2 * dot(1,3)  +  [-30.000]  dot(1,2) * dot(2,3)   \n",
      "\n",
      "\n"
     ]
    }
   ],
   "source": [
    "width = 4\n",
    "depth = 4\n",
    "\n",
    "# generate Lyndon words out of width letters and of length max_depth\n",
    "L = HallBasis(width, depth, lessExpressionLyndon)\n",
    "LyndonWords = [parse(foliageFromTree(i)) for i in tqdm(L.data[-1])]\n",
    "\n",
    "# pick randomly a Lyndon word of lenght max_depth\n",
    "candidate = LyndonWords[np.random.randint(len(LyndonWords))]\n",
    "\n",
    "# Polynomial Regression\n",
    "PolyRegAreasHallTrees(candidate.pretty(), candidate, width, depth, Hall_order=lessExpressionLyndon)"
   ]
  },
  {
   "cell_type": "markdown",
   "metadata": {},
   "source": [
    "### More generally, every element of the dual space of the free Lie algebra can be re-written as a shuffle-polynomial in dots of Hall trees. \n",
    "\n",
    "Note that the we have a basis for the shuffle algebra $S$ and we have a projection in to the dual of the FLA via:\n",
    "\n",
    "$$\\pi^T(S(h)), \\ h \\in H$$"
   ]
  },
  {
   "cell_type": "code",
   "execution_count": 24,
   "metadata": {},
   "outputs": [
    {
     "data": {
      "application/vnd.jupyter.widget-view+json": {
       "model_id": "5c15a45cbfbc42df9235e5359b9eafd4",
       "version_major": 2,
       "version_minor": 0
      },
      "text/plain": [
       "HBox(children=(IntProgress(value=0, max=150), HTML(value='')))"
      ]
     },
     "metadata": {},
     "output_type": "display_data"
    },
    {
     "name": "stdout",
     "output_type": "stream",
     "text": [
      "\n",
      "[120] [[[1,4],3],2] =   [-10.000] dot(dot(dot(2,4),3),1)  +  [10.000]  1 * 4 * dot(2,3)  +  [10.000]  1 * dot(dot(2,4),3)  +  [-10.000]  2 * dot(dot(1,4),3)  +  [5.000] dot(dot(1,2),dot(3,4))  +  [15.000] dot(dot(1,4),dot(2,3))  +  [5.000] dot(dot(1,3),dot(2,4))  +  [-5.000]  dot(1,2) * dot(3,4)  +  [10.000]  3 * 4 * dot(1,2)  +  [-10.000]  2 * 4 * dot(1,3)  +  [-5.000]  dot(1,3) * dot(2,4)  +  [10.000]  1 * dot(dot(3,4),2)  +  [-10.000]  2 * dot(dot(3,4),1)  +  [15.000]  dot(1,4) * dot(2,3)  +  [-10.000]  4 * dot(dot(2,3),1)  +  [30.000] dot(dot(dot(1,4),3),2)  +  [20.000]  3 * dot(dot(1,4),2)  +  [-10.000] dot(dot(dot(3,4),2),1)  +  [20.000]  4 * dot(dot(1,3),2)  +  [-10.000]  3 * dot(dot(2,4),1)   \n",
      "\n",
      "\n"
     ]
    }
   ],
   "source": [
    "width = 5\n",
    "depth = 4\n",
    "\n",
    "# generate Lyndon words out of width letters and of length max_depth\n",
    "HB = HallBasis(width, depth, lessExpressionStandardHall)\n",
    "HallWords = [(printTreeAsLieBrackets(i), pi1adjoint(S(foliageFromTree(i), HB))) for i in tqdm(HB.data[-1])]\n",
    "\n",
    "# pick randomly a Lyndon word of lenght max_depth\n",
    "candidateH = HallWords[np.random.randint(len(HallWords))]\n",
    "\n",
    "# Polynomial Regression\n",
    "PolyRegAreasHallTrees(candidateH[0], candidateH[1], width, depth, Hall_order=lessExpressionStandardHall)"
   ]
  },
  {
   "cell_type": "markdown",
   "metadata": {},
   "source": [
    "# 3) Pattern"
   ]
  },
  {
   "cell_type": "code",
   "execution_count": 114,
   "metadata": {},
   "outputs": [],
   "source": [
    "def Pattern(width, depth, Hall_order=lessExpressionNyldon):\n",
    "    \n",
    "    letters_ = tuple(range(1, width+1))\n",
    "    letters = tuple(letter2Elt(i) for i in letters_)\n",
    "\n",
    "    # Enveloping algebra of words\n",
    "    T = TensorSpaceBasis(word2Elt, None, width, depth)\n",
    "    \n",
    "    # Hall basis\n",
    "    H = HallBasis(width, depth, Hall_order)\n",
    "\n",
    "    # Areas of Hall trees\n",
    "    allHallAreasTuple = [[(i, areaFromTree(i))  for i in j] for j in H.data]\n",
    "    \n",
    "    # Polynomial Basis\n",
    "    ShufflePolynomialBasis = []\n",
    "    for d in range(1, depth+1):\n",
    "        BasisElementsLevel = [shufflePairs(i) for i in expandSetsThroughGrading(allHallAreasTuple, d)]\n",
    "        for elmnt in BasisElementsLevel:\n",
    "            ShufflePolynomialBasis.append(elmnt)\n",
    "    \n",
    "    HallWords = []\n",
    "    for h in H.data:\n",
    "        HallWords += [(printTreeAsLieBrackets(i), pi1adjoint(S(foliageFromTree(i), H))) for i in h]\n",
    "\n",
    "    Hall_dict = {}\n",
    "        \n",
    "    for h in HallWords:\n",
    "        Hall_dict_internal = {hh[0]:0 for hh in HallWords}\n",
    "        coeffs = T.inTermsOf([h[1]], [j for i,j in ShufflePolynomialBasis])[0]\n",
    "        for k, c in enumerate(coeffs):\n",
    "            if 1e-10<math.fabs(c):\n",
    "                for t in ShufflePolynomialBasis[k][0]:\n",
    "                    Hall_dict_internal[printTreeAsLieBrackets(t)] = 1\n",
    "        Hall_dict[h[0]] = Hall_dict_internal\n",
    "    \n",
    "    df = pd.DataFrame.from_dict(Hall_dict, orient='columns')\n",
    "    df.sort_values(by=[hhh[0] for hhh in HallWords], axis='index', inplace=True)\n",
    "    return df"
   ]
  },
  {
   "cell_type": "code",
   "execution_count": 116,
   "metadata": {},
   "outputs": [
    {
     "data": {
      "image/png": "[encoded data removed]",
      "text/plain": [
       "<Figure size 576x576 with 1 Axes>"
      ]
     },
     "metadata": {},
     "output_type": "display_data"
    }
   ],
   "source": [
    "plt.figure(figsize=(8,8))\n",
    "seaborn.heatmap(Pattern(3, 4, lessExpressionStandardHall), cbar=False)\n",
    "plt.title('For any element of the dual of the free Lie algebra, select Hall trees in its areas polynomial representation')\n",
    "plt.show()"
   ]
  },
  {
   "cell_type": "markdown",
   "metadata": {},
   "source": [
    "# 4) Signature terms directly from areas of Hall trees"
   ]
  },
  {
   "cell_type": "code",
   "execution_count": 3,
   "metadata": {},
   "outputs": [],
   "source": [
    "width = 2\n",
    "word = '212'\n",
    "depth = len(word)\n",
    "\n",
    "X = np.random.randn(10, width)"
   ]
  },
  {
   "cell_type": "code",
   "execution_count": 4,
   "metadata": {},
   "outputs": [
    {
     "name": "stdout",
     "output_type": "stream",
     "text": [
      "[24] 212 =   [-4.000]  2 * dot(1,2)  +  [4.000]  1 * 2 * 2  +  [-8.000] dot(dot(1,2),2)   \n",
      "\n",
      "\n"
     ]
    }
   ],
   "source": [
    "PolyRegAreasHallTrees(word, parse(word), width=width, depth=depth, Hall_order=lessExpressionLyndon)"
   ]
  },
  {
   "cell_type": "code",
   "execution_count": 7,
   "metadata": {},
   "outputs": [
    {
     "data": {
      "text/plain": [
       "-5.6905772468277735"
      ]
     },
     "execution_count": 7,
     "metadata": {},
     "output_type": "execute_result"
    }
   ],
   "source": [
    "coeffSig(word, X, lessExpressionLyndon)"
   ]
  },
  {
   "cell_type": "code",
   "execution_count": 8,
   "metadata": {},
   "outputs": [
    {
     "data": {
      "text/plain": [
       "array([ 1.00000000e+00,  4.27709603e-01, -3.16952981e-02,  9.14677521e-02,\n",
       "        5.04894467e+00, -5.06250105e+00,  5.02295961e-04,  1.30405453e-02,\n",
       "        7.81273998e+00, -1.34659978e+01,  2.76527472e+00,  5.65035876e+00,\n",
       "       -5.69057725e+00,  2.92551736e+00, -5.30680675e-06])"
      ]
     },
     "execution_count": 8,
     "metadata": {},
     "output_type": "execute_result"
    }
   ],
   "source": [
    "tosig.stream2sig(X, depth)"
   ]
  },
  {
   "cell_type": "code",
   "execution_count": null,
   "metadata": {},
   "outputs": [],
   "source": []
  }
 ],
 "metadata": {
  "kernelspec": {
   "display_name": "Python 3 (ipykernel)",
   "language": "python",
   "name": "python3"
  },
  "language_info": {
   "codemirror_mode": {
    "name": "ipython",
    "version": 3
   },
   "file_extension": ".py",
   "mimetype": "text/x-python",
   "name": "python",
   "nbconvert_exporter": "python",
   "pygments_lexer": "ipython3",
   "version": "3.9.12"
  }
 },
 "nbformat": 4,
 "nbformat_minor": 2
}
